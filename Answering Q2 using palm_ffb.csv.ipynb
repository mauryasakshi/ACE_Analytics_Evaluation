{
 "cells": [
  {
   "cell_type": "markdown",
   "metadata": {},
   "source": [
    "A team of plantation planners are concerned about the yield of oil palm trees, which seems to fluctuate. They have collected a set of data and needed help in analysing on how external factors influence fresh fruit bunch (FFB) yield. Some experts are of opinion that the flowering of oil palm tree determines the FFB yield, and are linked to the external factors. Perform the analysis, which requires some study on the background of oil palm tree physiology."
   ]
  },
  {
   "cell_type": "markdown",
   "metadata": {},
   "source": [
    "## Loading Basic Libraries and dataset "
   ]
  },
  {
   "cell_type": "code",
   "execution_count": 1,
   "metadata": {},
   "outputs": [],
   "source": [
    "import pandas as pd\n",
    "import numpy as np\n",
    "import matplotlib.pyplot as pl\n",
    "%matplotlib inline"
   ]
  },
  {
   "cell_type": "code",
   "execution_count": 2,
   "metadata": {},
   "outputs": [],
   "source": [
    "df = pd.read_csv('palm_ffb.csv',parse_dates=['Date'], index_col='Date') \n",
    "\n",
    "## parsing date columns into date format and setting it as index"
   ]
  },
  {
   "cell_type": "markdown",
   "metadata": {},
   "source": [
    "## Exploratory Data Analysis"
   ]
  },
  {
   "cell_type": "code",
   "execution_count": 3,
   "metadata": {},
   "outputs": [
    {
     "data": {
      "text/html": [
       "<div>\n",
       "<style scoped>\n",
       "    .dataframe tbody tr th:only-of-type {\n",
       "        vertical-align: middle;\n",
       "    }\n",
       "\n",
       "    .dataframe tbody tr th {\n",
       "        vertical-align: top;\n",
       "    }\n",
       "\n",
       "    .dataframe thead th {\n",
       "        text-align: right;\n",
       "    }\n",
       "</style>\n",
       "<table border=\"1\" class=\"dataframe\">\n",
       "  <thead>\n",
       "    <tr style=\"text-align: right;\">\n",
       "      <th></th>\n",
       "      <th>SoilMoisture</th>\n",
       "      <th>Average_Temp</th>\n",
       "      <th>Min_Temp</th>\n",
       "      <th>Max_Temp</th>\n",
       "      <th>Precipitation</th>\n",
       "      <th>Working_days</th>\n",
       "      <th>HA_Harvested</th>\n",
       "      <th>FFB_Yield</th>\n",
       "    </tr>\n",
       "    <tr>\n",
       "      <th>Date</th>\n",
       "      <th></th>\n",
       "      <th></th>\n",
       "      <th></th>\n",
       "      <th></th>\n",
       "      <th></th>\n",
       "      <th></th>\n",
       "      <th></th>\n",
       "      <th></th>\n",
       "    </tr>\n",
       "  </thead>\n",
       "  <tbody>\n",
       "    <tr>\n",
       "      <th>2008-01-01</th>\n",
       "      <td>616.4</td>\n",
       "      <td>25.306452</td>\n",
       "      <td>21.3</td>\n",
       "      <td>32.2</td>\n",
       "      <td>184.4</td>\n",
       "      <td>25</td>\n",
       "      <td>777778.3951</td>\n",
       "      <td>1.62</td>\n",
       "    </tr>\n",
       "    <tr>\n",
       "      <th>2008-01-02</th>\n",
       "      <td>568.9</td>\n",
       "      <td>26.165517</td>\n",
       "      <td>20.9</td>\n",
       "      <td>35.1</td>\n",
       "      <td>140.2</td>\n",
       "      <td>23</td>\n",
       "      <td>767988.2759</td>\n",
       "      <td>1.45</td>\n",
       "    </tr>\n",
       "    <tr>\n",
       "      <th>2008-01-03</th>\n",
       "      <td>577.6</td>\n",
       "      <td>25.448387</td>\n",
       "      <td>21.3</td>\n",
       "      <td>32.9</td>\n",
       "      <td>280.4</td>\n",
       "      <td>25</td>\n",
       "      <td>783951.9231</td>\n",
       "      <td>1.56</td>\n",
       "    </tr>\n",
       "    <tr>\n",
       "      <th>2008-01-04</th>\n",
       "      <td>581.1</td>\n",
       "      <td>26.903333</td>\n",
       "      <td>20.6</td>\n",
       "      <td>34.8</td>\n",
       "      <td>173.3</td>\n",
       "      <td>25</td>\n",
       "      <td>788987.0504</td>\n",
       "      <td>1.39</td>\n",
       "    </tr>\n",
       "    <tr>\n",
       "      <th>2008-01-05</th>\n",
       "      <td>545.4</td>\n",
       "      <td>27.241935</td>\n",
       "      <td>20.9</td>\n",
       "      <td>35.0</td>\n",
       "      <td>140.6</td>\n",
       "      <td>25</td>\n",
       "      <td>813659.7222</td>\n",
       "      <td>1.44</td>\n",
       "    </tr>\n",
       "  </tbody>\n",
       "</table>\n",
       "</div>"
      ],
      "text/plain": [
       "            SoilMoisture  Average_Temp  Min_Temp  Max_Temp  Precipitation  \\\n",
       "Date                                                                        \n",
       "2008-01-01         616.4     25.306452      21.3      32.2          184.4   \n",
       "2008-01-02         568.9     26.165517      20.9      35.1          140.2   \n",
       "2008-01-03         577.6     25.448387      21.3      32.9          280.4   \n",
       "2008-01-04         581.1     26.903333      20.6      34.8          173.3   \n",
       "2008-01-05         545.4     27.241935      20.9      35.0          140.6   \n",
       "\n",
       "            Working_days  HA_Harvested  FFB_Yield  \n",
       "Date                                               \n",
       "2008-01-01            25   777778.3951       1.62  \n",
       "2008-01-02            23   767988.2759       1.45  \n",
       "2008-01-03            25   783951.9231       1.56  \n",
       "2008-01-04            25   788987.0504       1.39  \n",
       "2008-01-05            25   813659.7222       1.44  "
      ]
     },
     "execution_count": 3,
     "metadata": {},
     "output_type": "execute_result"
    }
   ],
   "source": [
    "df.head()"
   ]
  },
  {
   "cell_type": "code",
   "execution_count": 4,
   "metadata": {},
   "outputs": [
    {
     "data": {
      "text/plain": [
       "(130, 8)"
      ]
     },
     "execution_count": 4,
     "metadata": {},
     "output_type": "execute_result"
    }
   ],
   "source": [
    "df.shape ## this specifies there are 130 observations and 8 features"
   ]
  },
  {
   "cell_type": "code",
   "execution_count": 5,
   "metadata": {},
   "outputs": [
    {
     "data": {
      "text/plain": [
       "SoilMoisture     0\n",
       "Average_Temp     0\n",
       "Min_Temp         0\n",
       "Max_Temp         0\n",
       "Precipitation    0\n",
       "Working_days     0\n",
       "HA_Harvested     0\n",
       "FFB_Yield        0\n",
       "dtype: int64"
      ]
     },
     "execution_count": 5,
     "metadata": {},
     "output_type": "execute_result"
    }
   ],
   "source": [
    "df.isna().sum() ## checking missing values\n",
    "\n",
    "# this dataset contains no missing values"
   ]
  },
  {
   "cell_type": "code",
   "execution_count": 6,
   "metadata": {},
   "outputs": [
    {
     "data": {
      "text/plain": [
       "Index(['SoilMoisture', 'Average_Temp', 'Min_Temp', 'Max_Temp', 'Precipitation',\n",
       "       'Working_days', 'HA_Harvested', 'FFB_Yield'],\n",
       "      dtype='object')"
      ]
     },
     "execution_count": 6,
     "metadata": {},
     "output_type": "execute_result"
    }
   ],
   "source": [
    "df.columns"
   ]
  },
  {
   "cell_type": "code",
   "execution_count": 7,
   "metadata": {},
   "outputs": [
    {
     "name": "stdout",
     "output_type": "stream",
     "text": [
      "<class 'pandas.core.frame.DataFrame'>\n",
      "DatetimeIndex: 130 entries, 2008-01-01 to 2018-01-10\n",
      "Data columns (total 8 columns):\n",
      " #   Column         Non-Null Count  Dtype  \n",
      "---  ------         --------------  -----  \n",
      " 0   SoilMoisture   130 non-null    float64\n",
      " 1   Average_Temp   130 non-null    float64\n",
      " 2   Min_Temp       130 non-null    float64\n",
      " 3   Max_Temp       130 non-null    float64\n",
      " 4   Precipitation  130 non-null    float64\n",
      " 5   Working_days   130 non-null    int64  \n",
      " 6   HA_Harvested   130 non-null    float64\n",
      " 7   FFB_Yield      130 non-null    float64\n",
      "dtypes: float64(7), int64(1)\n",
      "memory usage: 9.1 KB\n"
     ]
    }
   ],
   "source": [
    "df.info()  ## Determining Datatype of Each feature"
   ]
  },
  {
   "cell_type": "code",
   "execution_count": 8,
   "metadata": {},
   "outputs": [
    {
     "data": {
      "text/html": [
       "<div>\n",
       "<style scoped>\n",
       "    .dataframe tbody tr th:only-of-type {\n",
       "        vertical-align: middle;\n",
       "    }\n",
       "\n",
       "    .dataframe tbody tr th {\n",
       "        vertical-align: top;\n",
       "    }\n",
       "\n",
       "    .dataframe thead th {\n",
       "        text-align: right;\n",
       "    }\n",
       "</style>\n",
       "<table border=\"1\" class=\"dataframe\">\n",
       "  <thead>\n",
       "    <tr style=\"text-align: right;\">\n",
       "      <th></th>\n",
       "      <th>SoilMoisture</th>\n",
       "      <th>Average_Temp</th>\n",
       "      <th>Min_Temp</th>\n",
       "      <th>Max_Temp</th>\n",
       "      <th>Precipitation</th>\n",
       "      <th>Working_days</th>\n",
       "      <th>HA_Harvested</th>\n",
       "      <th>FFB_Yield</th>\n",
       "    </tr>\n",
       "  </thead>\n",
       "  <tbody>\n",
       "    <tr>\n",
       "      <th>count</th>\n",
       "      <td>130.000000</td>\n",
       "      <td>130.000000</td>\n",
       "      <td>130.000000</td>\n",
       "      <td>130.000000</td>\n",
       "      <td>130.000000</td>\n",
       "      <td>130.000000</td>\n",
       "      <td>130.000000</td>\n",
       "      <td>130.000000</td>\n",
       "    </tr>\n",
       "    <tr>\n",
       "      <th>mean</th>\n",
       "      <td>527.646923</td>\n",
       "      <td>26.849918</td>\n",
       "      <td>21.379231</td>\n",
       "      <td>33.851538</td>\n",
       "      <td>188.980769</td>\n",
       "      <td>24.753846</td>\n",
       "      <td>793404.491565</td>\n",
       "      <td>1.602231</td>\n",
       "    </tr>\n",
       "    <tr>\n",
       "      <th>std</th>\n",
       "      <td>57.367844</td>\n",
       "      <td>0.651413</td>\n",
       "      <td>0.688971</td>\n",
       "      <td>1.079638</td>\n",
       "      <td>80.237210</td>\n",
       "      <td>1.239289</td>\n",
       "      <td>34440.893854</td>\n",
       "      <td>0.281751</td>\n",
       "    </tr>\n",
       "    <tr>\n",
       "      <th>min</th>\n",
       "      <td>380.700000</td>\n",
       "      <td>25.158065</td>\n",
       "      <td>18.900000</td>\n",
       "      <td>31.100000</td>\n",
       "      <td>2.000000</td>\n",
       "      <td>21.000000</td>\n",
       "      <td>683431.944400</td>\n",
       "      <td>1.080000</td>\n",
       "    </tr>\n",
       "    <tr>\n",
       "      <th>25%</th>\n",
       "      <td>488.625000</td>\n",
       "      <td>26.442285</td>\n",
       "      <td>21.000000</td>\n",
       "      <td>33.100000</td>\n",
       "      <td>140.300000</td>\n",
       "      <td>24.000000</td>\n",
       "      <td>768966.949100</td>\n",
       "      <td>1.390000</td>\n",
       "    </tr>\n",
       "    <tr>\n",
       "      <th>50%</th>\n",
       "      <td>538.300000</td>\n",
       "      <td>26.930645</td>\n",
       "      <td>21.500000</td>\n",
       "      <td>33.900000</td>\n",
       "      <td>182.150000</td>\n",
       "      <td>25.000000</td>\n",
       "      <td>790036.158050</td>\n",
       "      <td>1.585000</td>\n",
       "    </tr>\n",
       "    <tr>\n",
       "      <th>75%</th>\n",
       "      <td>571.025000</td>\n",
       "      <td>27.270726</td>\n",
       "      <td>21.800000</td>\n",
       "      <td>34.600000</td>\n",
       "      <td>226.100000</td>\n",
       "      <td>26.000000</td>\n",
       "      <td>821989.235250</td>\n",
       "      <td>1.807500</td>\n",
       "    </tr>\n",
       "    <tr>\n",
       "      <th>max</th>\n",
       "      <td>647.300000</td>\n",
       "      <td>28.580000</td>\n",
       "      <td>22.600000</td>\n",
       "      <td>36.000000</td>\n",
       "      <td>496.100000</td>\n",
       "      <td>27.000000</td>\n",
       "      <td>882254.225400</td>\n",
       "      <td>2.270000</td>\n",
       "    </tr>\n",
       "  </tbody>\n",
       "</table>\n",
       "</div>"
      ],
      "text/plain": [
       "       SoilMoisture  Average_Temp    Min_Temp    Max_Temp  Precipitation  \\\n",
       "count    130.000000    130.000000  130.000000  130.000000     130.000000   \n",
       "mean     527.646923     26.849918   21.379231   33.851538     188.980769   \n",
       "std       57.367844      0.651413    0.688971    1.079638      80.237210   \n",
       "min      380.700000     25.158065   18.900000   31.100000       2.000000   \n",
       "25%      488.625000     26.442285   21.000000   33.100000     140.300000   \n",
       "50%      538.300000     26.930645   21.500000   33.900000     182.150000   \n",
       "75%      571.025000     27.270726   21.800000   34.600000     226.100000   \n",
       "max      647.300000     28.580000   22.600000   36.000000     496.100000   \n",
       "\n",
       "       Working_days   HA_Harvested   FFB_Yield  \n",
       "count    130.000000     130.000000  130.000000  \n",
       "mean      24.753846  793404.491565    1.602231  \n",
       "std        1.239289   34440.893854    0.281751  \n",
       "min       21.000000  683431.944400    1.080000  \n",
       "25%       24.000000  768966.949100    1.390000  \n",
       "50%       25.000000  790036.158050    1.585000  \n",
       "75%       26.000000  821989.235250    1.807500  \n",
       "max       27.000000  882254.225400    2.270000  "
      ]
     },
     "execution_count": 8,
     "metadata": {},
     "output_type": "execute_result"
    }
   ],
   "source": [
    "df.describe()  ## Summary of Data"
   ]
  },
  {
   "cell_type": "code",
   "execution_count": 9,
   "metadata": {},
   "outputs": [
    {
     "data": {
      "text/plain": [
       "DatetimeIndex(['2008-01-01', '2008-01-02', '2008-01-03', '2008-01-04',\n",
       "               '2008-01-05', '2008-01-06', '2008-01-07', '2008-01-08',\n",
       "               '2008-01-09', '2008-01-10',\n",
       "               ...\n",
       "               '2018-01-01', '2018-01-02', '2018-01-03', '2018-01-04',\n",
       "               '2018-01-05', '2018-01-06', '2018-01-07', '2018-01-08',\n",
       "               '2018-01-09', '2018-01-10'],\n",
       "              dtype='datetime64[ns]', name='Date', length=130, freq=None)"
      ]
     },
     "execution_count": 9,
     "metadata": {},
     "output_type": "execute_result"
    }
   ],
   "source": [
    "df.index ## checking the index of dataframe for further data understanding"
   ]
  },
  {
   "cell_type": "code",
   "execution_count": 10,
   "metadata": {},
   "outputs": [
    {
     "data": {
      "text/html": [
       "<div>\n",
       "<style scoped>\n",
       "    .dataframe tbody tr th:only-of-type {\n",
       "        vertical-align: middle;\n",
       "    }\n",
       "\n",
       "    .dataframe tbody tr th {\n",
       "        vertical-align: top;\n",
       "    }\n",
       "\n",
       "    .dataframe thead th {\n",
       "        text-align: right;\n",
       "    }\n",
       "</style>\n",
       "<table border=\"1\" class=\"dataframe\">\n",
       "  <thead>\n",
       "    <tr style=\"text-align: right;\">\n",
       "      <th></th>\n",
       "      <th>SoilMoisture</th>\n",
       "      <th>Average_Temp</th>\n",
       "      <th>Min_Temp</th>\n",
       "      <th>Max_Temp</th>\n",
       "      <th>Precipitation</th>\n",
       "      <th>Working_days</th>\n",
       "      <th>HA_Harvested</th>\n",
       "      <th>FFB_Yield</th>\n",
       "    </tr>\n",
       "    <tr>\n",
       "      <th>Date</th>\n",
       "      <th></th>\n",
       "      <th></th>\n",
       "      <th></th>\n",
       "      <th></th>\n",
       "      <th></th>\n",
       "      <th></th>\n",
       "      <th></th>\n",
       "      <th></th>\n",
       "    </tr>\n",
       "  </thead>\n",
       "  <tbody>\n",
       "    <tr>\n",
       "      <th>2008-01-01</th>\n",
       "      <td>616.4</td>\n",
       "      <td>25.306452</td>\n",
       "      <td>21.3</td>\n",
       "      <td>32.2</td>\n",
       "      <td>184.4</td>\n",
       "      <td>25</td>\n",
       "      <td>777778.3951</td>\n",
       "      <td>1.62</td>\n",
       "    </tr>\n",
       "    <tr>\n",
       "      <th>2008-01-02</th>\n",
       "      <td>568.9</td>\n",
       "      <td>26.165517</td>\n",
       "      <td>20.9</td>\n",
       "      <td>35.1</td>\n",
       "      <td>140.2</td>\n",
       "      <td>23</td>\n",
       "      <td>767988.2759</td>\n",
       "      <td>1.45</td>\n",
       "    </tr>\n",
       "    <tr>\n",
       "      <th>2008-01-03</th>\n",
       "      <td>577.6</td>\n",
       "      <td>25.448387</td>\n",
       "      <td>21.3</td>\n",
       "      <td>32.9</td>\n",
       "      <td>280.4</td>\n",
       "      <td>25</td>\n",
       "      <td>783951.9231</td>\n",
       "      <td>1.56</td>\n",
       "    </tr>\n",
       "    <tr>\n",
       "      <th>2008-01-04</th>\n",
       "      <td>581.1</td>\n",
       "      <td>26.903333</td>\n",
       "      <td>20.6</td>\n",
       "      <td>34.8</td>\n",
       "      <td>173.3</td>\n",
       "      <td>25</td>\n",
       "      <td>788987.0504</td>\n",
       "      <td>1.39</td>\n",
       "    </tr>\n",
       "    <tr>\n",
       "      <th>2008-01-05</th>\n",
       "      <td>545.4</td>\n",
       "      <td>27.241935</td>\n",
       "      <td>20.9</td>\n",
       "      <td>35.0</td>\n",
       "      <td>140.6</td>\n",
       "      <td>25</td>\n",
       "      <td>813659.7222</td>\n",
       "      <td>1.44</td>\n",
       "    </tr>\n",
       "    <tr>\n",
       "      <th>2008-01-06</th>\n",
       "      <td>532.5</td>\n",
       "      <td>27.116667</td>\n",
       "      <td>21.4</td>\n",
       "      <td>35.5</td>\n",
       "      <td>182.3</td>\n",
       "      <td>24</td>\n",
       "      <td>829817.5676</td>\n",
       "      <td>1.48</td>\n",
       "    </tr>\n",
       "    <tr>\n",
       "      <th>2008-01-07</th>\n",
       "      <td>544.7</td>\n",
       "      <td>27.035484</td>\n",
       "      <td>21.2</td>\n",
       "      <td>33.9</td>\n",
       "      <td>201.6</td>\n",
       "      <td>26</td>\n",
       "      <td>814475.3012</td>\n",
       "      <td>1.66</td>\n",
       "    </tr>\n",
       "    <tr>\n",
       "      <th>2008-01-08</th>\n",
       "      <td>569.9</td>\n",
       "      <td>27.200000</td>\n",
       "      <td>21.7</td>\n",
       "      <td>34.5</td>\n",
       "      <td>283.2</td>\n",
       "      <td>26</td>\n",
       "      <td>782279.5322</td>\n",
       "      <td>1.71</td>\n",
       "    </tr>\n",
       "    <tr>\n",
       "      <th>2008-01-09</th>\n",
       "      <td>571.7</td>\n",
       "      <td>27.556667</td>\n",
       "      <td>21.2</td>\n",
       "      <td>35.1</td>\n",
       "      <td>176.3</td>\n",
       "      <td>25</td>\n",
       "      <td>795237.6543</td>\n",
       "      <td>1.62</td>\n",
       "    </tr>\n",
       "    <tr>\n",
       "      <th>2008-01-10</th>\n",
       "      <td>565.3</td>\n",
       "      <td>27.358065</td>\n",
       "      <td>22.1</td>\n",
       "      <td>33.9</td>\n",
       "      <td>217.5</td>\n",
       "      <td>24</td>\n",
       "      <td>765090.8602</td>\n",
       "      <td>1.86</td>\n",
       "    </tr>\n",
       "  </tbody>\n",
       "</table>\n",
       "</div>"
      ],
      "text/plain": [
       "            SoilMoisture  Average_Temp  Min_Temp  Max_Temp  Precipitation  \\\n",
       "Date                                                                        \n",
       "2008-01-01         616.4     25.306452      21.3      32.2          184.4   \n",
       "2008-01-02         568.9     26.165517      20.9      35.1          140.2   \n",
       "2008-01-03         577.6     25.448387      21.3      32.9          280.4   \n",
       "2008-01-04         581.1     26.903333      20.6      34.8          173.3   \n",
       "2008-01-05         545.4     27.241935      20.9      35.0          140.6   \n",
       "2008-01-06         532.5     27.116667      21.4      35.5          182.3   \n",
       "2008-01-07         544.7     27.035484      21.2      33.9          201.6   \n",
       "2008-01-08         569.9     27.200000      21.7      34.5          283.2   \n",
       "2008-01-09         571.7     27.556667      21.2      35.1          176.3   \n",
       "2008-01-10         565.3     27.358065      22.1      33.9          217.5   \n",
       "\n",
       "            Working_days  HA_Harvested  FFB_Yield  \n",
       "Date                                               \n",
       "2008-01-01            25   777778.3951       1.62  \n",
       "2008-01-02            23   767988.2759       1.45  \n",
       "2008-01-03            25   783951.9231       1.56  \n",
       "2008-01-04            25   788987.0504       1.39  \n",
       "2008-01-05            25   813659.7222       1.44  \n",
       "2008-01-06            24   829817.5676       1.48  \n",
       "2008-01-07            26   814475.3012       1.66  \n",
       "2008-01-08            26   782279.5322       1.71  \n",
       "2008-01-09            25   795237.6543       1.62  \n",
       "2008-01-10            24   765090.8602       1.86  "
      ]
     },
     "execution_count": 10,
     "metadata": {},
     "output_type": "execute_result"
    }
   ],
   "source": [
    "df.head(10)"
   ]
  },
  {
   "cell_type": "markdown",
   "metadata": {},
   "source": [
    "## Analyzing Each feature individually"
   ]
  },
  {
   "cell_type": "markdown",
   "metadata": {},
   "source": [
    "### <i> Analyzing \"Working Days\" feature</i>"
   ]
  },
  {
   "cell_type": "code",
   "execution_count": 11,
   "metadata": {},
   "outputs": [
    {
     "data": {
      "text/plain": [
       "25    39\n",
       "26    35\n",
       "24    33\n",
       "23    13\n",
       "27     5\n",
       "21     3\n",
       "22     2\n",
       "Name: Working_days, dtype: int64"
      ]
     },
     "execution_count": 11,
     "metadata": {},
     "output_type": "execute_result"
    }
   ],
   "source": [
    "# Analysizing working days\n",
    "df['Working_days'].value_counts() \n",
    "\n",
    "## Observations : \n",
    "    #there are 39 observations that took 25 working days, 35 obseravtions took 26 working days"
   ]
  },
  {
   "cell_type": "code",
   "execution_count": 12,
   "metadata": {},
   "outputs": [
    {
     "data": {
      "text/plain": [
       "Working_days\n",
       "26    1.651429\n",
       "25    1.621282\n",
       "24    1.602424\n",
       "23    1.544615\n",
       "21    1.480000\n",
       "27    1.462000\n",
       "22    1.275000\n",
       "Name: FFB_Yield, dtype: float64"
      ]
     },
     "execution_count": 12,
     "metadata": {},
     "output_type": "execute_result"
    }
   ],
   "source": [
    "## Understanding the impact of working days on FFB yeild.\n",
    "df.groupby('Working_days')['FFB_Yield'].mean().sort_values(ascending=False)\n",
    "\n",
    "## Observation : \n",
    "\n",
    "    # here we see that yeild were working days were 26 > yeild were working days were 27, \n",
    "    # other than this decrease in working days, decrease in yield of FFB"
   ]
  },
  {
   "cell_type": "code",
   "execution_count": 13,
   "metadata": {},
   "outputs": [
    {
     "data": {
      "text/plain": [
       "<BarContainer object of 130 artists>"
      ]
     },
     "execution_count": 13,
     "metadata": {},
     "output_type": "execute_result"
    },
    {
     "data": {
      "image/png": "[encoded data removed]",
      "text/plain": [
       "<Figure size 432x288 with 1 Axes>"
      ]
     },
     "metadata": {
      "needs_background": "light"
     },
     "output_type": "display_data"
    }
   ],
   "source": [
    "   \n",
    "pl.bar(df['Working_days'],df['FFB_Yield'],color=\"orange\")\n"
   ]
  },
  {
   "cell_type": "markdown",
   "metadata": {},
   "source": [
    "Observations :\n",
    "    1. Increase or decrease in number of working days shows non-linear relationship with FFB yeild"
   ]
  },
  {
   "cell_type": "markdown",
   "metadata": {},
   "source": [
    "### <i> Analyzing date that is index of dataframe and FFB yield feature</i>"
   ]
  },
  {
   "cell_type": "code",
   "execution_count": 14,
   "metadata": {},
   "outputs": [
    {
     "data": {
      "text/plain": [
       "Int64Index([ 1,  2,  3,  4,  5,  6,  7,  8,  9, 10,\n",
       "            ...\n",
       "             1,  2,  3,  4,  5,  6,  7,  8,  9, 10],\n",
       "           dtype='int64', name='Date', length=130)"
      ]
     },
     "execution_count": 14,
     "metadata": {},
     "output_type": "execute_result"
    }
   ],
   "source": [
    "df_month = df.index.day  ## here Month is refred as day in date column\n",
    "df_month"
   ]
  },
  {
   "cell_type": "code",
   "execution_count": 15,
   "metadata": {},
   "outputs": [
    {
     "data": {
      "text/plain": [
       "2008    12\n",
       "2009    12\n",
       "2010    12\n",
       "2011    12\n",
       "2012    12\n",
       "2013    12\n",
       "2014    12\n",
       "2015    12\n",
       "2016    12\n",
       "2017    12\n",
       "2018    10\n",
       "Name: Date, dtype: int64"
      ]
     },
     "execution_count": 15,
     "metadata": {},
     "output_type": "execute_result"
    }
   ],
   "source": [
    "df.index.year.value_counts() \n",
    "\n",
    "# here we see that we have 10 months data of year 2018"
   ]
  },
  {
   "cell_type": "code",
   "execution_count": 16,
   "metadata": {},
   "outputs": [],
   "source": [
    "## individually analysing yeild production year wise\n",
    "\n",
    "df2 = df[df.index.year == 2008]\n",
    "df3 = df[df.index.year == 2009]\n",
    "df4 = df[df.index.year == 2010]\n",
    "df5 = df[df.index.year == 2011]\n",
    "df6 = df[df.index.year == 2012]\n",
    "df7 = df[df.index.year == 2013]\n",
    "df8 = df[df.index.year == 2014]\n",
    "df9 = df[df.index.year == 2015]\n",
    "df10 = df[df.index.year == 2016]\n",
    "df11 = df[df.index.year == 2017]\n",
    "df12 = df[df.index.year == 2018]\n"
   ]
  },
  {
   "cell_type": "code",
   "execution_count": 18,
   "metadata": {},
   "outputs": [],
   "source": [
    "\n",
    "def addlabels(x,y):\n",
    "    for i in range(len(x)):\n",
    "        pl.text(i,y[i],y[i])"
   ]
  },
  {
   "cell_type": "code",
   "execution_count": 19,
   "metadata": {},
   "outputs": [
    {
     "data": {
      "image/png": "[encoded data removed]",
      "text/plain": [
       "<Figure size 1584x864 with 11 Axes>"
      ]
     },
     "metadata": {
      "needs_background": "light"
     },
     "output_type": "display_data"
    }
   ],
   "source": [
    "## plotting FFB yeild with respect to year, monthly data\n",
    "\n",
    "fig = pl.figure(figsize=(22,12))\n",
    "\n",
    "pl.subplot(4,3,1)\n",
    "pl.title('YEAR: 2008')\n",
    "pl.bar(df2.index.day,df2['FFB_Yield'],color ='y')\n",
    "addlabels(df2.index.day,df2['FFB_Yield'])\n",
    "    \n",
    "pl.subplot(4,3,2)\n",
    "pl.title('YEAR: 2009')\n",
    "pl.bar(df3.index.day,df3['FFB_Yield'],color ='c')\n",
    "addlabels(df3.index.day,df3['FFB_Yield'])\n",
    "\n",
    "pl.subplot(4,3,3)\n",
    "pl.title('YEAR: 2010')\n",
    "pl.bar(df4.index.day,df4['FFB_Yield'],color ='pink')\n",
    "addlabels(df4.index.day,df4['FFB_Yield'])\n",
    "\n",
    "pl.subplot(4,3,4)\n",
    "pl.title('YEAR: 2011')\n",
    "pl.bar(df5.index.day,df5['FFB_Yield'],color ='y')\n",
    "addlabels(df5.index.day,df5['FFB_Yield'])\n",
    "\n",
    "pl.subplot(4,3,5)\n",
    "pl.title('YEAR: 2012')\n",
    "pl.bar(df6.index.day,df6['FFB_Yield'],color ='c')\n",
    "addlabels(df6.index.day,df6['FFB_Yield'])\n",
    "\n",
    "pl.subplot(4,3,6)\n",
    "pl.title('YEAR: 2013')\n",
    "pl.bar(df7.index.day,df7['FFB_Yield'],color ='pink')\n",
    "addlabels(df7.index.day,df7['FFB_Yield'])\n",
    "\n",
    "pl.subplot(4,3,7)\n",
    "pl.title('YEAR: 2014')\n",
    "pl.bar(df8.index.day,df8['FFB_Yield'],color ='y')\n",
    "addlabels(df8.index.day,df8['FFB_Yield'])\n",
    "\n",
    "pl.subplot(4,3,8)\n",
    "pl.title('YEAR: 2015')\n",
    "pl.bar(df9.index.day,df9['FFB_Yield'],color ='c')\n",
    "addlabels(df9.index.day,df9['FFB_Yield'])\n",
    "\n",
    "pl.subplot(4,3,9)\n",
    "pl.title('YEAR: 2016')\n",
    "pl.bar(df10.index.day,df10['FFB_Yield'],color ='pink')\n",
    "addlabels(df10.index.day,df10['FFB_Yield'])\n",
    "\n",
    "pl.subplot(4,3,10)\n",
    "pl.title('YEAR: 2017')\n",
    "pl.bar(df11.index.day,df11['FFB_Yield'],color ='y')\n",
    "addlabels(df11.index.day,df11['FFB_Yield'])\n",
    "\n",
    "pl.subplot(4,3,11)\n",
    "pl.title('YEAR: 2018')\n",
    "pl.bar(df12.index.day,df12['FFB_Yield'],color ='c')\n",
    "addlabels(df12.index.day,df12['FFB_Yield'])\n"
   ]
  },
  {
   "cell_type": "markdown",
   "metadata": {},
   "source": [
    "## Observations from above graph :\n",
    "1. Above graph shows distribution of yeild of FFB year wise in a monthly plot\n",
    "2. In year 2016, least number of FFB were produced in month of January were as 2017 has highest number of FFB yeild in month of november\n",
    "3. As we can see from above graphs that the production of FFB is non - linear\n",
    "4. We can observe that most of the FFB were produced between  the month of August - December and highest production can be observed in month september and November."
   ]
  },
  {
   "cell_type": "markdown",
   "metadata": {},
   "source": [
    "### Now we will study other attributes based on obervations made from above graph"
   ]
  },
  {
   "cell_type": "code",
   "execution_count": 20,
   "metadata": {},
   "outputs": [
    {
     "data": {
      "text/plain": [
       "Date\n",
       "2017    2.27\n",
       "2014    2.14\n",
       "2011    2.08\n",
       "2012    2.08\n",
       "2009    2.07\n",
       "2013    2.04\n",
       "2018    2.04\n",
       "2015    1.97\n",
       "2008    1.89\n",
       "2016    1.84\n",
       "2010    1.74\n",
       "Name: FFB_Yield, dtype: float64"
      ]
     },
     "execution_count": 20,
     "metadata": {},
     "output_type": "execute_result"
    }
   ],
   "source": [
    "## Finding maximum yeild production year wise\n",
    "df.groupby(df.index.year)['FFB_Yield'].max().sort_values(ascending=False)  \n",
    "\n",
    "## Observation: 2017 and 2014 showed the maximum yeild"
   ]
  },
  {
   "cell_type": "code",
   "execution_count": 21,
   "metadata": {},
   "outputs": [
    {
     "data": {
      "text/plain": [
       "Date\n",
       "11    2.27\n",
       "10    2.26\n",
       "12    2.19\n",
       "8     2.14\n",
       "9     2.08\n",
       "7     1.87\n",
       "6     1.82\n",
       "5     1.81\n",
       "4     1.78\n",
       "1     1.77\n",
       "3     1.56\n",
       "2     1.45\n",
       "Name: FFB_Yield, dtype: float64"
      ]
     },
     "execution_count": 21,
     "metadata": {},
     "output_type": "execute_result"
    }
   ],
   "source": [
    "## Finding maximum yeild month wise\n",
    "df.groupby(df.index.day)['FFB_Yield'].max().sort_values(ascending=False)\n",
    "\n",
    "## August to December shows maximum yeild of FFB"
   ]
  },
  {
   "cell_type": "code",
   "execution_count": 22,
   "metadata": {},
   "outputs": [
    {
     "data": {
      "text/html": [
       "<div>\n",
       "<style scoped>\n",
       "    .dataframe tbody tr th:only-of-type {\n",
       "        vertical-align: middle;\n",
       "    }\n",
       "\n",
       "    .dataframe tbody tr th {\n",
       "        vertical-align: top;\n",
       "    }\n",
       "\n",
       "    .dataframe thead th {\n",
       "        text-align: right;\n",
       "    }\n",
       "</style>\n",
       "<table border=\"1\" class=\"dataframe\">\n",
       "  <thead>\n",
       "    <tr style=\"text-align: right;\">\n",
       "      <th></th>\n",
       "      <th>SoilMoisture</th>\n",
       "      <th>Average_Temp</th>\n",
       "      <th>Min_Temp</th>\n",
       "      <th>Max_Temp</th>\n",
       "      <th>Precipitation</th>\n",
       "      <th>Working_days</th>\n",
       "      <th>HA_Harvested</th>\n",
       "      <th>FFB_Yield</th>\n",
       "    </tr>\n",
       "    <tr>\n",
       "      <th>Date</th>\n",
       "      <th></th>\n",
       "      <th></th>\n",
       "      <th></th>\n",
       "      <th></th>\n",
       "      <th></th>\n",
       "      <th></th>\n",
       "      <th></th>\n",
       "      <th></th>\n",
       "    </tr>\n",
       "  </thead>\n",
       "  <tbody>\n",
       "    <tr>\n",
       "      <th>2014-01-08</th>\n",
       "      <td>542.8</td>\n",
       "      <td>26.212903</td>\n",
       "      <td>21.0</td>\n",
       "      <td>32.3</td>\n",
       "      <td>250.0</td>\n",
       "      <td>26</td>\n",
       "      <td>785828.0374</td>\n",
       "      <td>2.14</td>\n",
       "    </tr>\n",
       "    <tr>\n",
       "      <th>2014-01-09</th>\n",
       "      <td>536.9</td>\n",
       "      <td>26.546667</td>\n",
       "      <td>20.3</td>\n",
       "      <td>33.7</td>\n",
       "      <td>119.2</td>\n",
       "      <td>25</td>\n",
       "      <td>773833.3333</td>\n",
       "      <td>1.92</td>\n",
       "    </tr>\n",
       "    <tr>\n",
       "      <th>2014-01-10</th>\n",
       "      <td>509.8</td>\n",
       "      <td>27.119355</td>\n",
       "      <td>21.8</td>\n",
       "      <td>34.1</td>\n",
       "      <td>165.2</td>\n",
       "      <td>25</td>\n",
       "      <td>754434.0314</td>\n",
       "      <td>1.91</td>\n",
       "    </tr>\n",
       "    <tr>\n",
       "      <th>2014-01-11</th>\n",
       "      <td>555.0</td>\n",
       "      <td>26.443333</td>\n",
       "      <td>21.5</td>\n",
       "      <td>33.4</td>\n",
       "      <td>305.2</td>\n",
       "      <td>23</td>\n",
       "      <td>717359.6685</td>\n",
       "      <td>1.81</td>\n",
       "    </tr>\n",
       "    <tr>\n",
       "      <th>2014-01-12</th>\n",
       "      <td>619.4</td>\n",
       "      <td>25.996774</td>\n",
       "      <td>21.3</td>\n",
       "      <td>32.8</td>\n",
       "      <td>374.9</td>\n",
       "      <td>26</td>\n",
       "      <td>683431.9444</td>\n",
       "      <td>1.44</td>\n",
       "    </tr>\n",
       "    <tr>\n",
       "      <th>2017-01-08</th>\n",
       "      <td>526.7</td>\n",
       "      <td>26.832258</td>\n",
       "      <td>21.7</td>\n",
       "      <td>32.8</td>\n",
       "      <td>226.5</td>\n",
       "      <td>26</td>\n",
       "      <td>784926.3959</td>\n",
       "      <td>1.97</td>\n",
       "    </tr>\n",
       "    <tr>\n",
       "      <th>2017-01-09</th>\n",
       "      <td>539.0</td>\n",
       "      <td>27.066667</td>\n",
       "      <td>21.2</td>\n",
       "      <td>33.8</td>\n",
       "      <td>185.4</td>\n",
       "      <td>21</td>\n",
       "      <td>768186.4734</td>\n",
       "      <td>2.07</td>\n",
       "    </tr>\n",
       "    <tr>\n",
       "      <th>2017-01-10</th>\n",
       "      <td>547.5</td>\n",
       "      <td>27.474194</td>\n",
       "      <td>21.2</td>\n",
       "      <td>35.4</td>\n",
       "      <td>219.0</td>\n",
       "      <td>24</td>\n",
       "      <td>765351.3274</td>\n",
       "      <td>2.26</td>\n",
       "    </tr>\n",
       "    <tr>\n",
       "      <th>2017-01-11</th>\n",
       "      <td>592.9</td>\n",
       "      <td>26.530000</td>\n",
       "      <td>22.1</td>\n",
       "      <td>33.8</td>\n",
       "      <td>327.3</td>\n",
       "      <td>26</td>\n",
       "      <td>760970.4846</td>\n",
       "      <td>2.27</td>\n",
       "    </tr>\n",
       "    <tr>\n",
       "      <th>2017-01-12</th>\n",
       "      <td>619.0</td>\n",
       "      <td>26.441935</td>\n",
       "      <td>22.2</td>\n",
       "      <td>33.1</td>\n",
       "      <td>301.0</td>\n",
       "      <td>24</td>\n",
       "      <td>756968.0365</td>\n",
       "      <td>2.19</td>\n",
       "    </tr>\n",
       "  </tbody>\n",
       "</table>\n",
       "</div>"
      ],
      "text/plain": [
       "            SoilMoisture  Average_Temp  Min_Temp  Max_Temp  Precipitation  \\\n",
       "Date                                                                        \n",
       "2014-01-08         542.8     26.212903      21.0      32.3          250.0   \n",
       "2014-01-09         536.9     26.546667      20.3      33.7          119.2   \n",
       "2014-01-10         509.8     27.119355      21.8      34.1          165.2   \n",
       "2014-01-11         555.0     26.443333      21.5      33.4          305.2   \n",
       "2014-01-12         619.4     25.996774      21.3      32.8          374.9   \n",
       "2017-01-08         526.7     26.832258      21.7      32.8          226.5   \n",
       "2017-01-09         539.0     27.066667      21.2      33.8          185.4   \n",
       "2017-01-10         547.5     27.474194      21.2      35.4          219.0   \n",
       "2017-01-11         592.9     26.530000      22.1      33.8          327.3   \n",
       "2017-01-12         619.0     26.441935      22.2      33.1          301.0   \n",
       "\n",
       "            Working_days  HA_Harvested  FFB_Yield  \n",
       "Date                                               \n",
       "2014-01-08            26   785828.0374       2.14  \n",
       "2014-01-09            25   773833.3333       1.92  \n",
       "2014-01-10            25   754434.0314       1.91  \n",
       "2014-01-11            23   717359.6685       1.81  \n",
       "2014-01-12            26   683431.9444       1.44  \n",
       "2017-01-08            26   784926.3959       1.97  \n",
       "2017-01-09            21   768186.4734       2.07  \n",
       "2017-01-10            24   765351.3274       2.26  \n",
       "2017-01-11            26   760970.4846       2.27  \n",
       "2017-01-12            24   756968.0365       2.19  "
      ]
     },
     "execution_count": 22,
     "metadata": {},
     "output_type": "execute_result"
    }
   ],
   "source": [
    "max_yeild_df = df[((df.index.year ==2014)|(df.index.year ==2017)) & \n",
    "                  ((df.index.day == 8)|(df.index.day == 9)|\n",
    "                   (df.index.day == 10)|(df.index.day == 11)|(df.index.day ==12))]\n",
    "max_yeild_df"
   ]
  },
  {
   "cell_type": "code",
   "execution_count": 23,
   "metadata": {},
   "outputs": [
    {
     "data": {
      "text/html": [
       "<div>\n",
       "<style scoped>\n",
       "    .dataframe tbody tr th:only-of-type {\n",
       "        vertical-align: middle;\n",
       "    }\n",
       "\n",
       "    .dataframe tbody tr th {\n",
       "        vertical-align: top;\n",
       "    }\n",
       "\n",
       "    .dataframe thead th {\n",
       "        text-align: right;\n",
       "    }\n",
       "</style>\n",
       "<table border=\"1\" class=\"dataframe\">\n",
       "  <thead>\n",
       "    <tr style=\"text-align: right;\">\n",
       "      <th></th>\n",
       "      <th>SoilMoisture</th>\n",
       "      <th>Average_Temp</th>\n",
       "      <th>Min_Temp</th>\n",
       "      <th>Max_Temp</th>\n",
       "      <th>Precipitation</th>\n",
       "      <th>Working_days</th>\n",
       "      <th>HA_Harvested</th>\n",
       "      <th>FFB_Yield</th>\n",
       "    </tr>\n",
       "  </thead>\n",
       "  <tbody>\n",
       "    <tr>\n",
       "      <th>count</th>\n",
       "      <td>10.00000</td>\n",
       "      <td>10.000000</td>\n",
       "      <td>10.000000</td>\n",
       "      <td>10.000000</td>\n",
       "      <td>10.000000</td>\n",
       "      <td>10.000000</td>\n",
       "      <td>10.000000</td>\n",
       "      <td>10.000000</td>\n",
       "    </tr>\n",
       "    <tr>\n",
       "      <th>mean</th>\n",
       "      <td>558.90000</td>\n",
       "      <td>26.666409</td>\n",
       "      <td>21.430000</td>\n",
       "      <td>33.520000</td>\n",
       "      <td>247.370000</td>\n",
       "      <td>24.600000</td>\n",
       "      <td>755128.973280</td>\n",
       "      <td>1.998000</td>\n",
       "    </tr>\n",
       "    <tr>\n",
       "      <th>std</th>\n",
       "      <td>38.23945</td>\n",
       "      <td>0.451241</td>\n",
       "      <td>0.561842</td>\n",
       "      <td>0.867692</td>\n",
       "      <td>79.680097</td>\n",
       "      <td>1.646545</td>\n",
       "      <td>31728.255083</td>\n",
       "      <td>0.250812</td>\n",
       "    </tr>\n",
       "    <tr>\n",
       "      <th>min</th>\n",
       "      <td>509.80000</td>\n",
       "      <td>25.996774</td>\n",
       "      <td>20.300000</td>\n",
       "      <td>32.300000</td>\n",
       "      <td>119.200000</td>\n",
       "      <td>21.000000</td>\n",
       "      <td>683431.944400</td>\n",
       "      <td>1.440000</td>\n",
       "    </tr>\n",
       "    <tr>\n",
       "      <th>25%</th>\n",
       "      <td>537.42500</td>\n",
       "      <td>26.442285</td>\n",
       "      <td>21.200000</td>\n",
       "      <td>32.875000</td>\n",
       "      <td>193.800000</td>\n",
       "      <td>24.000000</td>\n",
       "      <td>755067.532675</td>\n",
       "      <td>1.912500</td>\n",
       "    </tr>\n",
       "    <tr>\n",
       "      <th>50%</th>\n",
       "      <td>545.15000</td>\n",
       "      <td>26.538333</td>\n",
       "      <td>21.400000</td>\n",
       "      <td>33.550000</td>\n",
       "      <td>238.250000</td>\n",
       "      <td>25.000000</td>\n",
       "      <td>763160.906000</td>\n",
       "      <td>2.020000</td>\n",
       "    </tr>\n",
       "    <tr>\n",
       "      <th>75%</th>\n",
       "      <td>583.42500</td>\n",
       "      <td>27.008065</td>\n",
       "      <td>21.775000</td>\n",
       "      <td>33.800000</td>\n",
       "      <td>304.150000</td>\n",
       "      <td>26.000000</td>\n",
       "      <td>772421.618325</td>\n",
       "      <td>2.177500</td>\n",
       "    </tr>\n",
       "    <tr>\n",
       "      <th>max</th>\n",
       "      <td>619.40000</td>\n",
       "      <td>27.474194</td>\n",
       "      <td>22.200000</td>\n",
       "      <td>35.400000</td>\n",
       "      <td>374.900000</td>\n",
       "      <td>26.000000</td>\n",
       "      <td>785828.037400</td>\n",
       "      <td>2.270000</td>\n",
       "    </tr>\n",
       "  </tbody>\n",
       "</table>\n",
       "</div>"
      ],
      "text/plain": [
       "       SoilMoisture  Average_Temp   Min_Temp   Max_Temp  Precipitation  \\\n",
       "count      10.00000     10.000000  10.000000  10.000000      10.000000   \n",
       "mean      558.90000     26.666409  21.430000  33.520000     247.370000   \n",
       "std        38.23945      0.451241   0.561842   0.867692      79.680097   \n",
       "min       509.80000     25.996774  20.300000  32.300000     119.200000   \n",
       "25%       537.42500     26.442285  21.200000  32.875000     193.800000   \n",
       "50%       545.15000     26.538333  21.400000  33.550000     238.250000   \n",
       "75%       583.42500     27.008065  21.775000  33.800000     304.150000   \n",
       "max       619.40000     27.474194  22.200000  35.400000     374.900000   \n",
       "\n",
       "       Working_days   HA_Harvested  FFB_Yield  \n",
       "count     10.000000      10.000000  10.000000  \n",
       "mean      24.600000  755128.973280   1.998000  \n",
       "std        1.646545   31728.255083   0.250812  \n",
       "min       21.000000  683431.944400   1.440000  \n",
       "25%       24.000000  755067.532675   1.912500  \n",
       "50%       25.000000  763160.906000   2.020000  \n",
       "75%       26.000000  772421.618325   2.177500  \n",
       "max       26.000000  785828.037400   2.270000  "
      ]
     },
     "execution_count": 23,
     "metadata": {},
     "output_type": "execute_result"
    }
   ],
   "source": [
    "max_yeild_df.describe()\n",
    "\n",
    "# From the below summary we can say that for best yeilds, minimum temperature should be between 20.30 to 22.20,\n",
    "# and maximum temperature should be between 32.30  to 35.40, Precipitation should be between 119.2 to 374.9"
   ]
  },
  {
   "cell_type": "code",
   "execution_count": 47,
   "metadata": {},
   "outputs": [
    {
     "data": {
      "text/html": [
       "<style type=\"text/css\">\n",
       "#T_179fa_row0_col0, #T_179fa_row1_col1, #T_179fa_row2_col2, #T_179fa_row3_col3, #T_179fa_row4_col4, #T_179fa_row5_col5, #T_179fa_row6_col6, #T_179fa_row7_col7 {\n",
       "  background-color: #b40426;\n",
       "  color: #f1f1f1;\n",
       "}\n",
       "#T_179fa_row0_col1, #T_179fa_row1_col4, #T_179fa_row2_col6, #T_179fa_row3_col4, #T_179fa_row3_col5, #T_179fa_row4_col6, #T_179fa_row5_col1, #T_179fa_row6_col4, #T_179fa_row7_col4 {\n",
       "  background-color: #3b4cc0;\n",
       "  color: #f1f1f1;\n",
       "}\n",
       "#T_179fa_row0_col2 {\n",
       "  background-color: #f3c8b2;\n",
       "  color: #000000;\n",
       "}\n",
       "#T_179fa_row0_col3 {\n",
       "  background-color: #81a4fb;\n",
       "  color: #f1f1f1;\n",
       "}\n",
       "#T_179fa_row0_col4, #T_179fa_row4_col0 {\n",
       "  background-color: #d95847;\n",
       "  color: #f1f1f1;\n",
       "}\n",
       "#T_179fa_row0_col5 {\n",
       "  background-color: #d4dbe6;\n",
       "  color: #000000;\n",
       "}\n",
       "#T_179fa_row0_col6, #T_179fa_row4_col1 {\n",
       "  background-color: #4257c9;\n",
       "  color: #f1f1f1;\n",
       "}\n",
       "#T_179fa_row0_col7 {\n",
       "  background-color: #9abbff;\n",
       "  color: #000000;\n",
       "}\n",
       "#T_179fa_row1_col0 {\n",
       "  background-color: #3c4ec2;\n",
       "  color: #f1f1f1;\n",
       "}\n",
       "#T_179fa_row1_col2 {\n",
       "  background-color: #bfd3f6;\n",
       "  color: #000000;\n",
       "}\n",
       "#T_179fa_row1_col3 {\n",
       "  background-color: #da5a49;\n",
       "  color: #f1f1f1;\n",
       "}\n",
       "#T_179fa_row1_col5 {\n",
       "  background-color: #5d7ce6;\n",
       "  color: #f1f1f1;\n",
       "}\n",
       "#T_179fa_row1_col6 {\n",
       "  background-color: #f7bca1;\n",
       "  color: #000000;\n",
       "}\n",
       "#T_179fa_row1_col7 {\n",
       "  background-color: #f7b79b;\n",
       "  color: #000000;\n",
       "}\n",
       "#T_179fa_row2_col0 {\n",
       "  background-color: #cedaeb;\n",
       "  color: #000000;\n",
       "}\n",
       "#T_179fa_row2_col1 {\n",
       "  background-color: #6687ed;\n",
       "  color: #f1f1f1;\n",
       "}\n",
       "#T_179fa_row2_col3 {\n",
       "  background-color: #4f69d9;\n",
       "  color: #f1f1f1;\n",
       "}\n",
       "#T_179fa_row2_col4 {\n",
       "  background-color: #eed0c0;\n",
       "  color: #000000;\n",
       "}\n",
       "#T_179fa_row2_col5 {\n",
       "  background-color: #7396f5;\n",
       "  color: #f1f1f1;\n",
       "}\n",
       "#T_179fa_row2_col7 {\n",
       "  background-color: #a6c4fe;\n",
       "  color: #000000;\n",
       "}\n",
       "#T_179fa_row3_col0, #T_179fa_row7_col0 {\n",
       "  background-color: #5470de;\n",
       "  color: #f1f1f1;\n",
       "}\n",
       "#T_179fa_row3_col1 {\n",
       "  background-color: #e0654f;\n",
       "  color: #f1f1f1;\n",
       "}\n",
       "#T_179fa_row3_col2 {\n",
       "  background-color: #86a9fc;\n",
       "  color: #f1f1f1;\n",
       "}\n",
       "#T_179fa_row3_col6 {\n",
       "  background-color: #abc8fd;\n",
       "  color: #000000;\n",
       "}\n",
       "#T_179fa_row3_col7 {\n",
       "  background-color: #e6d7cf;\n",
       "  color: #000000;\n",
       "}\n",
       "#T_179fa_row4_col2 {\n",
       "  background-color: #f7a98b;\n",
       "  color: #000000;\n",
       "}\n",
       "#T_179fa_row4_col3 {\n",
       "  background-color: #7093f3;\n",
       "  color: #f1f1f1;\n",
       "}\n",
       "#T_179fa_row4_col5 {\n",
       "  background-color: #e8d6cc;\n",
       "  color: #000000;\n",
       "}\n",
       "#T_179fa_row4_col7 {\n",
       "  background-color: #8badfd;\n",
       "  color: #000000;\n",
       "}\n",
       "#T_179fa_row5_col0 {\n",
       "  background-color: #c1d4f4;\n",
       "  color: #000000;\n",
       "}\n",
       "#T_179fa_row5_col2 {\n",
       "  background-color: #afcafc;\n",
       "  color: #000000;\n",
       "}\n",
       "#T_179fa_row5_col3 {\n",
       "  background-color: #465ecf;\n",
       "  color: #f1f1f1;\n",
       "}\n",
       "#T_179fa_row5_col4 {\n",
       "  background-color: #d6dce4;\n",
       "  color: #000000;\n",
       "}\n",
       "#T_179fa_row5_col6 {\n",
       "  background-color: #a1c0ff;\n",
       "  color: #000000;\n",
       "}\n",
       "#T_179fa_row5_col7 {\n",
       "  background-color: #7a9df8;\n",
       "  color: #f1f1f1;\n",
       "}\n",
       "#T_179fa_row6_col0 {\n",
       "  background-color: #4b64d5;\n",
       "  color: #f1f1f1;\n",
       "}\n",
       "#T_179fa_row6_col1 {\n",
       "  background-color: #f7b99e;\n",
       "  color: #000000;\n",
       "}\n",
       "#T_179fa_row6_col2 {\n",
       "  background-color: #a5c3fe;\n",
       "  color: #000000;\n",
       "}\n",
       "#T_179fa_row6_col3 {\n",
       "  background-color: #cfdaea;\n",
       "  color: #000000;\n",
       "}\n",
       "#T_179fa_row6_col5 {\n",
       "  background-color: #c0d4f5;\n",
       "  color: #000000;\n",
       "}\n",
       "#T_179fa_row6_col7 {\n",
       "  background-color: #e26952;\n",
       "  color: #f1f1f1;\n",
       "}\n",
       "#T_179fa_row7_col1 {\n",
       "  background-color: #edd1c2;\n",
       "  color: #000000;\n",
       "}\n",
       "#T_179fa_row7_col2 {\n",
       "  background-color: #bbd1f8;\n",
       "  color: #000000;\n",
       "}\n",
       "#T_179fa_row7_col3 {\n",
       "  background-color: #dadce0;\n",
       "  color: #000000;\n",
       "}\n",
       "#T_179fa_row7_col5 {\n",
       "  background-color: #536edd;\n",
       "  color: #f1f1f1;\n",
       "}\n",
       "#T_179fa_row7_col6 {\n",
       "  background-color: #ec7f63;\n",
       "  color: #f1f1f1;\n",
       "}\n",
       "</style>\n",
       "<table id=\"T_179fa_\">\n",
       "  <thead>\n",
       "    <tr>\n",
       "      <th class=\"blank level0\" >&nbsp;</th>\n",
       "      <th class=\"col_heading level0 col0\" >SoilMoisture</th>\n",
       "      <th class=\"col_heading level0 col1\" >Average_Temp</th>\n",
       "      <th class=\"col_heading level0 col2\" >Min_Temp</th>\n",
       "      <th class=\"col_heading level0 col3\" >Max_Temp</th>\n",
       "      <th class=\"col_heading level0 col4\" >Precipitation</th>\n",
       "      <th class=\"col_heading level0 col5\" >Working_days</th>\n",
       "      <th class=\"col_heading level0 col6\" >HA_Harvested</th>\n",
       "      <th class=\"col_heading level0 col7\" >FFB_Yield</th>\n",
       "    </tr>\n",
       "  </thead>\n",
       "  <tbody>\n",
       "    <tr>\n",
       "      <th id=\"T_179fa_level0_row0\" class=\"row_heading level0 row0\" >SoilMoisture</th>\n",
       "      <td id=\"T_179fa_row0_col0\" class=\"data row0 col0\" >1.0</td>\n",
       "      <td id=\"T_179fa_row0_col1\" class=\"data row0 col1\" >-0.596</td>\n",
       "      <td id=\"T_179fa_row0_col2\" class=\"data row0 col2\" >0.378</td>\n",
       "      <td id=\"T_179fa_row0_col3\" class=\"data row0 col3\" >-0.253</td>\n",
       "      <td id=\"T_179fa_row0_col4\" class=\"data row0 col4\" >0.819</td>\n",
       "      <td id=\"T_179fa_row0_col5\" class=\"data row0 col5\" >0.15</td>\n",
       "      <td id=\"T_179fa_row0_col6\" class=\"data row0 col6\" >-0.558</td>\n",
       "      <td id=\"T_179fa_row0_col7\" class=\"data row0 col7\" >-0.139</td>\n",
       "    </tr>\n",
       "    <tr>\n",
       "      <th id=\"T_179fa_level0_row1\" class=\"row_heading level0 row1\" >Average_Temp</th>\n",
       "      <td id=\"T_179fa_row1_col0\" class=\"data row1 col0\" >-0.596</td>\n",
       "      <td id=\"T_179fa_row1_col1\" class=\"data row1 col1\" >1.0</td>\n",
       "      <td id=\"T_179fa_row1_col2\" class=\"data row1 col2\" >0.0316</td>\n",
       "      <td id=\"T_179fa_row1_col3\" class=\"data row1 col3\" >0.815</td>\n",
       "      <td id=\"T_179fa_row1_col4\" class=\"data row1 col4\" >-0.604</td>\n",
       "      <td id=\"T_179fa_row1_col5\" class=\"data row1 col5\" >-0.423</td>\n",
       "      <td id=\"T_179fa_row1_col6\" class=\"data row1 col6\" >0.444</td>\n",
       "      <td id=\"T_179fa_row1_col7\" class=\"data row1 col7\" >0.468</td>\n",
       "    </tr>\n",
       "    <tr>\n",
       "      <th id=\"T_179fa_level0_row2\" class=\"row_heading level0 row2\" >Min_Temp</th>\n",
       "      <td id=\"T_179fa_row2_col0\" class=\"data row2 col0\" >0.378</td>\n",
       "      <td id=\"T_179fa_row2_col1\" class=\"data row2 col1\" >0.0316</td>\n",
       "      <td id=\"T_179fa_row2_col2\" class=\"data row2 col2\" >1.0</td>\n",
       "      <td id=\"T_179fa_row2_col3\" class=\"data row2 col3\" >-0.047</td>\n",
       "      <td id=\"T_179fa_row2_col4\" class=\"data row2 col4\" >0.523</td>\n",
       "      <td id=\"T_179fa_row2_col5\" class=\"data row2 col5\" >0.0745</td>\n",
       "      <td id=\"T_179fa_row2_col6\" class=\"data row2 col6\" >-0.124</td>\n",
       "      <td id=\"T_179fa_row2_col7\" class=\"data row2 col7\" >0.236</td>\n",
       "    </tr>\n",
       "    <tr>\n",
       "      <th id=\"T_179fa_level0_row3\" class=\"row_heading level0 row3\" >Max_Temp</th>\n",
       "      <td id=\"T_179fa_row3_col0\" class=\"data row3 col0\" >-0.253</td>\n",
       "      <td id=\"T_179fa_row3_col1\" class=\"data row3 col1\" >0.815</td>\n",
       "      <td id=\"T_179fa_row3_col2\" class=\"data row3 col2\" >-0.047</td>\n",
       "      <td id=\"T_179fa_row3_col3\" class=\"data row3 col3\" >1.0</td>\n",
       "      <td id=\"T_179fa_row3_col4\" class=\"data row3 col4\" >-0.367</td>\n",
       "      <td id=\"T_179fa_row3_col5\" class=\"data row3 col5\" >-0.367</td>\n",
       "      <td id=\"T_179fa_row3_col6\" class=\"data row3 col6\" >0.0967</td>\n",
       "      <td id=\"T_179fa_row3_col7\" class=\"data row3 col7\" >0.365</td>\n",
       "    </tr>\n",
       "    <tr>\n",
       "      <th id=\"T_179fa_level0_row4\" class=\"row_heading level0 row4\" >Precipitation</th>\n",
       "      <td id=\"T_179fa_row4_col0\" class=\"data row4 col0\" >0.819</td>\n",
       "      <td id=\"T_179fa_row4_col1\" class=\"data row4 col1\" >-0.604</td>\n",
       "      <td id=\"T_179fa_row4_col2\" class=\"data row4 col2\" >0.523</td>\n",
       "      <td id=\"T_179fa_row4_col3\" class=\"data row4 col3\" >-0.367</td>\n",
       "      <td id=\"T_179fa_row4_col4\" class=\"data row4 col4\" >1.0</td>\n",
       "      <td id=\"T_179fa_row4_col5\" class=\"data row4 col5\" >0.251</td>\n",
       "      <td id=\"T_179fa_row4_col6\" class=\"data row4 col6\" >-0.648</td>\n",
       "      <td id=\"T_179fa_row4_col7\" class=\"data row4 col7\" >-0.243</td>\n",
       "    </tr>\n",
       "    <tr>\n",
       "      <th id=\"T_179fa_level0_row5\" class=\"row_heading level0 row5\" >Working_days</th>\n",
       "      <td id=\"T_179fa_row5_col0\" class=\"data row5 col0\" >0.15</td>\n",
       "      <td id=\"T_179fa_row5_col1\" class=\"data row5 col1\" >-0.423</td>\n",
       "      <td id=\"T_179fa_row5_col2\" class=\"data row5 col2\" >0.0745</td>\n",
       "      <td id=\"T_179fa_row5_col3\" class=\"data row5 col3\" >-0.367</td>\n",
       "      <td id=\"T_179fa_row5_col4\" class=\"data row5 col4\" >0.251</td>\n",
       "      <td id=\"T_179fa_row5_col5\" class=\"data row5 col5\" >1.0</td>\n",
       "      <td id=\"T_179fa_row5_col6\" class=\"data row5 col6\" >0.0125</td>\n",
       "      <td id=\"T_179fa_row5_col7\" class=\"data row5 col7\" >-0.145</td>\n",
       "    </tr>\n",
       "    <tr>\n",
       "      <th id=\"T_179fa_level0_row6\" class=\"row_heading level0 row6\" >HA_Harvested</th>\n",
       "      <td id=\"T_179fa_row6_col0\" class=\"data row6 col0\" >-0.558</td>\n",
       "      <td id=\"T_179fa_row6_col1\" class=\"data row6 col1\" >0.444</td>\n",
       "      <td id=\"T_179fa_row6_col2\" class=\"data row6 col2\" >-0.124</td>\n",
       "      <td id=\"T_179fa_row6_col3\" class=\"data row6 col3\" >0.0967</td>\n",
       "      <td id=\"T_179fa_row6_col4\" class=\"data row6 col4\" >-0.648</td>\n",
       "      <td id=\"T_179fa_row6_col5\" class=\"data row6 col5\" >0.0125</td>\n",
       "      <td id=\"T_179fa_row6_col6\" class=\"data row6 col6\" >1.0</td>\n",
       "      <td id=\"T_179fa_row6_col7\" class=\"data row6 col7\" >0.765</td>\n",
       "    </tr>\n",
       "    <tr>\n",
       "      <th id=\"T_179fa_level0_row7\" class=\"row_heading level0 row7\" >FFB_Yield</th>\n",
       "      <td id=\"T_179fa_row7_col0\" class=\"data row7 col0\" >-0.139</td>\n",
       "      <td id=\"T_179fa_row7_col1\" class=\"data row7 col1\" >0.468</td>\n",
       "      <td id=\"T_179fa_row7_col2\" class=\"data row7 col2\" >0.236</td>\n",
       "      <td id=\"T_179fa_row7_col3\" class=\"data row7 col3\" >0.365</td>\n",
       "      <td id=\"T_179fa_row7_col4\" class=\"data row7 col4\" >-0.243</td>\n",
       "      <td id=\"T_179fa_row7_col5\" class=\"data row7 col5\" >-0.145</td>\n",
       "      <td id=\"T_179fa_row7_col6\" class=\"data row7 col6\" >0.765</td>\n",
       "      <td id=\"T_179fa_row7_col7\" class=\"data row7 col7\" >1.0</td>\n",
       "    </tr>\n",
       "  </tbody>\n",
       "</table>\n"
      ],
      "text/plain": [
       "<pandas.io.formats.style.Styler at 0x121b7848>"
      ]
     },
     "execution_count": 47,
     "metadata": {},
     "output_type": "execute_result"
    }
   ],
   "source": [
    "import seaborn as sns    \n",
    "import pandas.util.testing as tm\n",
    "max_yeild_df.corr(method='pearson').style.format(\"{:.3}\").background_gradient(cmap=pl.get_cmap('coolwarm'), axis=1) "
   ]
  },
  {
   "cell_type": "markdown",
   "metadata": {},
   "source": [
    "<b> Considering the data of max_yeild_df, we observe that FFB_yield shows a positive correlation with Average Temperature and HA_Harvested and soil moisture has no relation with FFB yield</b>"
   ]
  },
  {
   "cell_type": "code",
   "execution_count": 25,
   "metadata": {},
   "outputs": [
    {
     "data": {
      "text/plain": [
       "Date\n",
       "2011    1.08\n",
       "2012    1.09\n",
       "2016    1.10\n",
       "2010    1.16\n",
       "2015    1.17\n",
       "2014    1.20\n",
       "2013    1.21\n",
       "2018    1.29\n",
       "2009    1.30\n",
       "2017    1.32\n",
       "2008    1.39\n",
       "Name: FFB_Yield, dtype: float64"
      ]
     },
     "execution_count": 25,
     "metadata": {},
     "output_type": "execute_result"
    }
   ],
   "source": [
    "## Finding minimum yield production year wise\n",
    "df.groupby(df.index.year)['FFB_Yield'].min().sort_values(ascending=True)  "
   ]
  },
  {
   "cell_type": "code",
   "execution_count": 26,
   "metadata": {},
   "outputs": [
    {
     "data": {
      "text/plain": [
       "Date\n",
       "1     1.08\n",
       "2     1.09\n",
       "3     1.12\n",
       "4     1.21\n",
       "12    1.23\n",
       "6     1.29\n",
       "5     1.33\n",
       "7     1.42\n",
       "11    1.54\n",
       "8     1.58\n",
       "9     1.61\n",
       "10    1.73\n",
       "Name: FFB_Yield, dtype: float64"
      ]
     },
     "execution_count": 26,
     "metadata": {},
     "output_type": "execute_result"
    }
   ],
   "source": [
    "## Finding minimum yeild month wise\n",
    "df.groupby(df.index.day)['FFB_Yield'].min().sort_values(ascending=True)\n",
    "\n",
    "## observation : we see that Jan - March are least favorable month for FFB production"
   ]
  },
  {
   "cell_type": "code",
   "execution_count": 27,
   "metadata": {},
   "outputs": [
    {
     "data": {
      "text/html": [
       "<div>\n",
       "<style scoped>\n",
       "    .dataframe tbody tr th:only-of-type {\n",
       "        vertical-align: middle;\n",
       "    }\n",
       "\n",
       "    .dataframe tbody tr th {\n",
       "        vertical-align: top;\n",
       "    }\n",
       "\n",
       "    .dataframe thead th {\n",
       "        text-align: right;\n",
       "    }\n",
       "</style>\n",
       "<table border=\"1\" class=\"dataframe\">\n",
       "  <thead>\n",
       "    <tr style=\"text-align: right;\">\n",
       "      <th></th>\n",
       "      <th>SoilMoisture</th>\n",
       "      <th>Average_Temp</th>\n",
       "      <th>Min_Temp</th>\n",
       "      <th>Max_Temp</th>\n",
       "      <th>Precipitation</th>\n",
       "      <th>Working_days</th>\n",
       "      <th>HA_Harvested</th>\n",
       "      <th>FFB_Yield</th>\n",
       "    </tr>\n",
       "    <tr>\n",
       "      <th>Date</th>\n",
       "      <th></th>\n",
       "      <th></th>\n",
       "      <th></th>\n",
       "      <th></th>\n",
       "      <th></th>\n",
       "      <th></th>\n",
       "      <th></th>\n",
       "      <th></th>\n",
       "    </tr>\n",
       "  </thead>\n",
       "  <tbody>\n",
       "    <tr>\n",
       "      <th>2011-01-01</th>\n",
       "      <td>647.3</td>\n",
       "      <td>25.170968</td>\n",
       "      <td>21.1</td>\n",
       "      <td>31.5</td>\n",
       "      <td>496.1</td>\n",
       "      <td>24</td>\n",
       "      <td>830578.7037</td>\n",
       "      <td>1.08</td>\n",
       "    </tr>\n",
       "    <tr>\n",
       "      <th>2011-01-02</th>\n",
       "      <td>594.9</td>\n",
       "      <td>26.217857</td>\n",
       "      <td>20.3</td>\n",
       "      <td>34.6</td>\n",
       "      <td>22.1</td>\n",
       "      <td>21</td>\n",
       "      <td>808268.1416</td>\n",
       "      <td>1.13</td>\n",
       "    </tr>\n",
       "    <tr>\n",
       "      <th>2011-01-03</th>\n",
       "      <td>543.1</td>\n",
       "      <td>26.635484</td>\n",
       "      <td>21.7</td>\n",
       "      <td>33.7</td>\n",
       "      <td>212.4</td>\n",
       "      <td>27</td>\n",
       "      <td>801427.8146</td>\n",
       "      <td>1.51</td>\n",
       "    </tr>\n",
       "    <tr>\n",
       "      <th>2012-01-01</th>\n",
       "      <td>602.1</td>\n",
       "      <td>26.112903</td>\n",
       "      <td>21.1</td>\n",
       "      <td>33.5</td>\n",
       "      <td>134.9</td>\n",
       "      <td>24</td>\n",
       "      <td>776784.9206</td>\n",
       "      <td>1.26</td>\n",
       "    </tr>\n",
       "    <tr>\n",
       "      <th>2012-01-02</th>\n",
       "      <td>547.2</td>\n",
       "      <td>26.372414</td>\n",
       "      <td>20.8</td>\n",
       "      <td>34.1</td>\n",
       "      <td>129.1</td>\n",
       "      <td>24</td>\n",
       "      <td>829962.3853</td>\n",
       "      <td>1.09</td>\n",
       "    </tr>\n",
       "    <tr>\n",
       "      <th>2012-01-03</th>\n",
       "      <td>539.9</td>\n",
       "      <td>26.558065</td>\n",
       "      <td>21.6</td>\n",
       "      <td>33.0</td>\n",
       "      <td>208.9</td>\n",
       "      <td>27</td>\n",
       "      <td>834886.6071</td>\n",
       "      <td>1.12</td>\n",
       "    </tr>\n",
       "    <tr>\n",
       "      <th>2016-01-01</th>\n",
       "      <td>553.4</td>\n",
       "      <td>26.767742</td>\n",
       "      <td>22.2</td>\n",
       "      <td>33.2</td>\n",
       "      <td>106.8</td>\n",
       "      <td>26</td>\n",
       "      <td>746198.1818</td>\n",
       "      <td>1.10</td>\n",
       "    </tr>\n",
       "    <tr>\n",
       "      <th>2016-01-02</th>\n",
       "      <td>519.1</td>\n",
       "      <td>26.441379</td>\n",
       "      <td>21.9</td>\n",
       "      <td>32.3</td>\n",
       "      <td>175.7</td>\n",
       "      <td>23</td>\n",
       "      <td>766853.1532</td>\n",
       "      <td>1.11</td>\n",
       "    </tr>\n",
       "    <tr>\n",
       "      <th>2016-01-03</th>\n",
       "      <td>460.5</td>\n",
       "      <td>27.896774</td>\n",
       "      <td>21.5</td>\n",
       "      <td>35.9</td>\n",
       "      <td>36.5</td>\n",
       "      <td>26</td>\n",
       "      <td>796784.7458</td>\n",
       "      <td>1.18</td>\n",
       "    </tr>\n",
       "  </tbody>\n",
       "</table>\n",
       "</div>"
      ],
      "text/plain": [
       "            SoilMoisture  Average_Temp  Min_Temp  Max_Temp  Precipitation  \\\n",
       "Date                                                                        \n",
       "2011-01-01         647.3     25.170968      21.1      31.5          496.1   \n",
       "2011-01-02         594.9     26.217857      20.3      34.6           22.1   \n",
       "2011-01-03         543.1     26.635484      21.7      33.7          212.4   \n",
       "2012-01-01         602.1     26.112903      21.1      33.5          134.9   \n",
       "2012-01-02         547.2     26.372414      20.8      34.1          129.1   \n",
       "2012-01-03         539.9     26.558065      21.6      33.0          208.9   \n",
       "2016-01-01         553.4     26.767742      22.2      33.2          106.8   \n",
       "2016-01-02         519.1     26.441379      21.9      32.3          175.7   \n",
       "2016-01-03         460.5     27.896774      21.5      35.9           36.5   \n",
       "\n",
       "            Working_days  HA_Harvested  FFB_Yield  \n",
       "Date                                               \n",
       "2011-01-01            24   830578.7037       1.08  \n",
       "2011-01-02            21   808268.1416       1.13  \n",
       "2011-01-03            27   801427.8146       1.51  \n",
       "2012-01-01            24   776784.9206       1.26  \n",
       "2012-01-02            24   829962.3853       1.09  \n",
       "2012-01-03            27   834886.6071       1.12  \n",
       "2016-01-01            26   746198.1818       1.10  \n",
       "2016-01-02            23   766853.1532       1.11  \n",
       "2016-01-03            26   796784.7458       1.18  "
      ]
     },
     "execution_count": 27,
     "metadata": {},
     "output_type": "execute_result"
    }
   ],
   "source": [
    "df[((df.index.year ==2011)|(df.index.year ==2012)|(df.index.year ==2016)) & \n",
    "   ((df.index.day == 1)|(df.index.day == 2)|(df.index.day == 3))]\n",
    "\n",
    "## Observation : Here we are trying to understand the climate factors. \n",
    "## we also observe that in Precipitation there are certain values which doesnt match the \n",
    "#standered values, thus indicating outliers"
   ]
  },
  {
   "cell_type": "code",
   "execution_count": 28,
   "metadata": {},
   "outputs": [
    {
     "data": {
      "text/plain": [
       "[<matplotlib.lines.Line2D at 0xfeb2108>]"
      ]
     },
     "execution_count": 28,
     "metadata": {},
     "output_type": "execute_result"
    },
    {
     "data": {
      "image/png": "[encoded data removed]",
      "text/plain": [
       "<Figure size 432x288 with 1 Axes>"
      ]
     },
     "metadata": {
      "needs_background": "light"
     },
     "output_type": "display_data"
    }
   ],
   "source": [
    "## Analyzing HA_harvested \n",
    "pl.plot(df.index.to_numpy(),df['HA_Harvested'].to_numpy(),'bo')"
   ]
  },
  {
   "cell_type": "code",
   "execution_count": 29,
   "metadata": {},
   "outputs": [
    {
     "data": {
      "text/plain": [
       "<matplotlib.axes._subplots.AxesSubplot at 0x15946308>"
      ]
     },
     "execution_count": 29,
     "metadata": {},
     "output_type": "execute_result"
    },
    {
     "data": {
      "image/png": "[encoded data removed]",
      "text/plain": [
       "<Figure size 432x288 with 1 Axes>"
      ]
     },
     "metadata": {
      "needs_background": "light"
     },
     "output_type": "display_data"
    }
   ],
   "source": [
    "sns.distplot(df['HA_Harvested'])"
   ]
  },
  {
   "cell_type": "code",
   "execution_count": 30,
   "metadata": {},
   "outputs": [
    {
     "data": {
      "text/plain": [
       "[<matplotlib.lines.Line2D at 0x159c3708>]"
      ]
     },
     "execution_count": 30,
     "metadata": {},
     "output_type": "execute_result"
    },
    {
     "data": {
      "image/png": "[encoded data removed]",
      "text/plain": [
       "<Figure size 1584x432 with 1 Axes>"
      ]
     },
     "metadata": {
      "needs_background": "light"
     },
     "output_type": "display_data"
    }
   ],
   "source": [
    "# Analyzing precipitation\n",
    "fig = pl.figure(figsize=(22,6))\n",
    "\n",
    "pl.plot(df.index.to_numpy(),df['Precipitation'].to_numpy(),'bo',linestyle ='--',color=\"green\")"
   ]
  },
  {
   "cell_type": "code",
   "execution_count": 31,
   "metadata": {},
   "outputs": [
    {
     "data": {
      "text/plain": [
       "<matplotlib.axes._subplots.AxesSubplot at 0x15a0f548>"
      ]
     },
     "execution_count": 31,
     "metadata": {},
     "output_type": "execute_result"
    },
    {
     "data": {
      "image/png": "[encoded data removed]",
      "text/plain": [
       "<Figure size 432x288 with 1 Axes>"
      ]
     },
     "metadata": {
      "needs_background": "light"
     },
     "output_type": "display_data"
    }
   ],
   "source": [
    "sns.distplot(df['Precipitation'])"
   ]
  },
  {
   "cell_type": "code",
   "execution_count": 32,
   "metadata": {},
   "outputs": [
    {
     "data": {
      "text/plain": [
       "[<matplotlib.lines.Line2D at 0x15a9b5c8>]"
      ]
     },
     "execution_count": 32,
     "metadata": {},
     "output_type": "execute_result"
    },
    {
     "data": {
      "image/png": "[encoded data removed]",
      "text/plain": [
       "<Figure size 1584x432 with 1 Axes>"
      ]
     },
     "metadata": {
      "needs_background": "light"
     },
     "output_type": "display_data"
    }
   ],
   "source": [
    "# Analyzing average temperature\n",
    "fig = pl.figure(figsize=(22,6))\n",
    "\n",
    "pl.plot(df.index.to_numpy(),df['Average_Temp'].to_numpy(),color=\"red\")"
   ]
  },
  {
   "cell_type": "code",
   "execution_count": 33,
   "metadata": {},
   "outputs": [
    {
     "data": {
      "text/plain": [
       "<matplotlib.axes._subplots.AxesSubplot at 0x15aef808>"
      ]
     },
     "execution_count": 33,
     "metadata": {},
     "output_type": "execute_result"
    },
    {
     "data": {
      "image/png": "[encoded data removed]",
      "text/plain": [
       "<Figure size 432x288 with 1 Axes>"
      ]
     },
     "metadata": {
      "needs_background": "light"
     },
     "output_type": "display_data"
    }
   ],
   "source": [
    "sns.distplot(df['Average_Temp'])"
   ]
  },
  {
   "cell_type": "markdown",
   "metadata": {},
   "source": [
    "### Trend Analysis"
   ]
  },
  {
   "cell_type": "code",
   "execution_count": 34,
   "metadata": {},
   "outputs": [
    {
     "data": {
      "text/plain": [
       "Mann_Kendall_Test(trend='no trend', h=False, p=0.23975628896172108, z=1.1755961644997728, Tau=0.06976744186046512, s=585.0, var_s=246779.66666666666, slope=0.0008695652173913051, intercept=1.5289130434782607)"
      ]
     },
     "execution_count": 34,
     "metadata": {},
     "output_type": "execute_result"
    }
   ],
   "source": [
    "import pymannkendall as mk\n",
    "\n",
    "mk.original_test(df['FFB_Yield'])\n"
   ]
  },
  {
   "cell_type": "code",
   "execution_count": 35,
   "metadata": {},
   "outputs": [
    {
     "data": {
      "text/plain": [
       "Mann_Kendall_Test(trend='no trend', h=False, p=0.20917522189493942, z=1.255836591523354, Tau=0.07453786523553965, s=625.0, var_s=246889.66666666666, slope=0.0019148936170212737, intercept=26.80713452670213)"
      ]
     },
     "execution_count": 35,
     "metadata": {},
     "output_type": "execute_result"
    }
   ],
   "source": [
    "mk.original_test(df['Average_Temp'])"
   ]
  },
  {
   "cell_type": "code",
   "execution_count": 36,
   "metadata": {},
   "outputs": [
    {
     "data": {
      "text/plain": [
       "Mann_Kendall_Test(trend='decreasing', h=True, p=0.0034977481969795665, z=-2.920228501061328, Tau=-0.17316636851520573, s=-1452.0, var_s=246888.66666666666, slope=-0.409345794392524, intercept=564.7028037383177)"
      ]
     },
     "execution_count": 36,
     "metadata": {},
     "output_type": "execute_result"
    }
   ],
   "source": [
    "mk.original_test(df['SoilMoisture'])"
   ]
  },
  {
   "cell_type": "code",
   "execution_count": 37,
   "metadata": {},
   "outputs": [
    {
     "data": {
      "text/plain": [
       "Mann_Kendall_Test(trend='no trend', h=False, p=0.5993873730350918, z=-0.525281705717246, Tau=-0.031246273106738224, s=-262.0, var_s=246886.0, slope=-0.08, intercept=187.31)"
      ]
     },
     "execution_count": 37,
     "metadata": {},
     "output_type": "execute_result"
    }
   ],
   "source": [
    "mk.original_test(df['Precipitation'])"
   ]
  },
  {
   "cell_type": "code",
   "execution_count": 38,
   "metadata": {},
   "outputs": [
    {
     "data": {
      "text/plain": [
       "Mann_Kendall_Test(trend='no trend', h=False, p=0.9166514548963565, z=-0.10465262541028518, Tau=-0.006320810971973762, s=-53.0, var_s=246891.66666666666, slope=-8.38126666666681, intercept=790576.74975)"
      ]
     },
     "execution_count": 38,
     "metadata": {},
     "output_type": "execute_result"
    }
   ],
   "source": [
    "mk.original_test(df['HA_Harvested'])"
   ]
  },
  {
   "cell_type": "code",
   "execution_count": 39,
   "metadata": {},
   "outputs": [
    {
     "data": {
      "text/plain": [
       "Mann_Kendall_Test(trend='no trend', h=False, p=0.6388979646686375, z=0.46924018514860144, Tau=0.027906976744186046, s=234.0, var_s=246559.33333333334, slope=0.0010869565217391458, intercept=33.829891304347825)"
      ]
     },
     "execution_count": 39,
     "metadata": {},
     "output_type": "execute_result"
    }
   ],
   "source": [
    "mk.original_test(df['Max_Temp'])"
   ]
  },
  {
   "cell_type": "code",
   "execution_count": 40,
   "metadata": {},
   "outputs": [
    {
     "data": {
      "text/plain": [
       "Mann_Kendall_Test(trend='no trend', h=False, p=0.730205642150759, z=-0.3448519943040081, Tau=-0.020512820512820513, s=-172.0, var_s=245882.0, slope=0.0, intercept=21.5)"
      ]
     },
     "execution_count": 40,
     "metadata": {},
     "output_type": "execute_result"
    }
   ],
   "source": [
    "mk.original_test(df['Min_Temp'])"
   ]
  },
  {
   "cell_type": "markdown",
   "metadata": {},
   "source": [
    "<b> From the above trend analysis, we see that only soil moisture, follows a decreasing trend </b>"
   ]
  },
  {
   "cell_type": "markdown",
   "metadata": {},
   "source": [
    "### OutLier Detection"
   ]
  },
  {
   "cell_type": "code",
   "execution_count": 41,
   "metadata": {},
   "outputs": [
    {
     "data": {
      "image/png": "[encoded data removed]",
      "text/plain": [
       "<Figure size 720x360 with 1 Axes>"
      ]
     },
     "metadata": {
      "needs_background": "light"
     },
     "output_type": "display_data"
    }
   ],
   "source": [
    "ax = df[['SoilMoisture', 'Average_Temp','Min_Temp','Max_Temp','Precipitation']].plot(kind='box', \n",
    "                                                                                     title='BoxPlot for Outlier Detection', \n",
    "                                                                                     showmeans=True,figsize = (10,5),rot=90)\n",
    "pl.show()\n",
    "\n",
    "## in the figure below we observe that, there are 4 outliers in precipitation"
   ]
  },
  {
   "cell_type": "code",
   "execution_count": 42,
   "metadata": {},
   "outputs": [
    {
     "name": "stdout",
     "output_type": "stream",
     "text": [
      "Upper Limit : 408.4119999999997\n",
      "Lower Limit : 26.276000000000003\n"
     ]
    }
   ],
   "source": [
    "## using quartile method to remove outliers\n",
    "\n",
    "upper_limit = df['Precipitation'].quantile(0.99)\n",
    "lower_limit = df['Precipitation'].quantile(0.01)\n",
    "print(\"Upper Limit :\",upper_limit )\n",
    "print(\"Lower Limit :\",lower_limit )"
   ]
  },
  {
   "cell_type": "code",
   "execution_count": 43,
   "metadata": {},
   "outputs": [
    {
     "data": {
      "text/html": [
       "<div>\n",
       "<style scoped>\n",
       "    .dataframe tbody tr th:only-of-type {\n",
       "        vertical-align: middle;\n",
       "    }\n",
       "\n",
       "    .dataframe tbody tr th {\n",
       "        vertical-align: top;\n",
       "    }\n",
       "\n",
       "    .dataframe thead th {\n",
       "        text-align: right;\n",
       "    }\n",
       "</style>\n",
       "<table border=\"1\" class=\"dataframe\">\n",
       "  <thead>\n",
       "    <tr style=\"text-align: right;\">\n",
       "      <th></th>\n",
       "      <th>SoilMoisture</th>\n",
       "      <th>Average_Temp</th>\n",
       "      <th>Min_Temp</th>\n",
       "      <th>Max_Temp</th>\n",
       "      <th>Precipitation</th>\n",
       "      <th>Working_days</th>\n",
       "      <th>HA_Harvested</th>\n",
       "      <th>FFB_Yield</th>\n",
       "    </tr>\n",
       "    <tr>\n",
       "      <th>Date</th>\n",
       "      <th></th>\n",
       "      <th></th>\n",
       "      <th></th>\n",
       "      <th></th>\n",
       "      <th></th>\n",
       "      <th></th>\n",
       "      <th></th>\n",
       "      <th></th>\n",
       "    </tr>\n",
       "  </thead>\n",
       "  <tbody>\n",
       "    <tr>\n",
       "      <th>2008-01-01</th>\n",
       "      <td>616.4</td>\n",
       "      <td>25.306452</td>\n",
       "      <td>21.3</td>\n",
       "      <td>32.2</td>\n",
       "      <td>184.4</td>\n",
       "      <td>25</td>\n",
       "      <td>777778.3951</td>\n",
       "      <td>1.62</td>\n",
       "    </tr>\n",
       "    <tr>\n",
       "      <th>2008-01-02</th>\n",
       "      <td>568.9</td>\n",
       "      <td>26.165517</td>\n",
       "      <td>20.9</td>\n",
       "      <td>35.1</td>\n",
       "      <td>140.2</td>\n",
       "      <td>23</td>\n",
       "      <td>767988.2759</td>\n",
       "      <td>1.45</td>\n",
       "    </tr>\n",
       "    <tr>\n",
       "      <th>2008-01-03</th>\n",
       "      <td>577.6</td>\n",
       "      <td>25.448387</td>\n",
       "      <td>21.3</td>\n",
       "      <td>32.9</td>\n",
       "      <td>280.4</td>\n",
       "      <td>25</td>\n",
       "      <td>783951.9231</td>\n",
       "      <td>1.56</td>\n",
       "    </tr>\n",
       "    <tr>\n",
       "      <th>2008-01-04</th>\n",
       "      <td>581.1</td>\n",
       "      <td>26.903333</td>\n",
       "      <td>20.6</td>\n",
       "      <td>34.8</td>\n",
       "      <td>173.3</td>\n",
       "      <td>25</td>\n",
       "      <td>788987.0504</td>\n",
       "      <td>1.39</td>\n",
       "    </tr>\n",
       "    <tr>\n",
       "      <th>2008-01-05</th>\n",
       "      <td>545.4</td>\n",
       "      <td>27.241935</td>\n",
       "      <td>20.9</td>\n",
       "      <td>35.0</td>\n",
       "      <td>140.6</td>\n",
       "      <td>25</td>\n",
       "      <td>813659.7222</td>\n",
       "      <td>1.44</td>\n",
       "    </tr>\n",
       "  </tbody>\n",
       "</table>\n",
       "</div>"
      ],
      "text/plain": [
       "            SoilMoisture  Average_Temp  Min_Temp  Max_Temp  Precipitation  \\\n",
       "Date                                                                        \n",
       "2008-01-01         616.4     25.306452      21.3      32.2          184.4   \n",
       "2008-01-02         568.9     26.165517      20.9      35.1          140.2   \n",
       "2008-01-03         577.6     25.448387      21.3      32.9          280.4   \n",
       "2008-01-04         581.1     26.903333      20.6      34.8          173.3   \n",
       "2008-01-05         545.4     27.241935      20.9      35.0          140.6   \n",
       "\n",
       "            Working_days  HA_Harvested  FFB_Yield  \n",
       "Date                                               \n",
       "2008-01-01            25   777778.3951       1.62  \n",
       "2008-01-02            23   767988.2759       1.45  \n",
       "2008-01-03            25   783951.9231       1.56  \n",
       "2008-01-04            25   788987.0504       1.39  \n",
       "2008-01-05            25   813659.7222       1.44  "
      ]
     },
     "execution_count": 43,
     "metadata": {},
     "output_type": "execute_result"
    }
   ],
   "source": [
    "new_df = df[(df['Precipitation'] <= upper_limit) & (df['Precipitation'] >= lower_limit)]\n",
    "new_df.head()"
   ]
  },
  {
   "cell_type": "code",
   "execution_count": 44,
   "metadata": {},
   "outputs": [
    {
     "data": {
      "text/plain": [
       "(126, 8)"
      ]
     },
     "execution_count": 44,
     "metadata": {},
     "output_type": "execute_result"
    }
   ],
   "source": [
    "new_df.shape"
   ]
  },
  {
   "cell_type": "code",
   "execution_count": 45,
   "metadata": {},
   "outputs": [],
   "source": [
    "## Finding Correlation in new_dataframe"
   ]
  },
  {
   "cell_type": "code",
   "execution_count": 46,
   "metadata": {},
   "outputs": [
    {
     "data": {
      "text/html": [
       "<style type=\"text/css\">\n",
       "#T_6a218_row0_col0, #T_6a218_row1_col1, #T_6a218_row2_col2, #T_6a218_row3_col3, #T_6a218_row4_col4, #T_6a218_row5_col5, #T_6a218_row6_col6, #T_6a218_row7_col7 {\n",
       "  background-color: #b40426;\n",
       "  color: #f1f1f1;\n",
       "}\n",
       "#T_6a218_row0_col1, #T_6a218_row1_col0, #T_6a218_row2_col3, #T_6a218_row3_col0, #T_6a218_row4_col3, #T_6a218_row5_col0, #T_6a218_row6_col0, #T_6a218_row7_col6 {\n",
       "  background-color: #3b4cc0;\n",
       "  color: #f1f1f1;\n",
       "}\n",
       "#T_6a218_row0_col2 {\n",
       "  background-color: #c3d5f4;\n",
       "  color: #000000;\n",
       "}\n",
       "#T_6a218_row0_col3 {\n",
       "  background-color: #5572df;\n",
       "  color: #f1f1f1;\n",
       "}\n",
       "#T_6a218_row0_col4 {\n",
       "  background-color: #f6a586;\n",
       "  color: #000000;\n",
       "}\n",
       "#T_6a218_row0_col5 {\n",
       "  background-color: #b2ccfb;\n",
       "  color: #000000;\n",
       "}\n",
       "#T_6a218_row0_col6, #T_6a218_row2_col7 {\n",
       "  background-color: #6c8ff1;\n",
       "  color: #f1f1f1;\n",
       "}\n",
       "#T_6a218_row0_col7 {\n",
       "  background-color: #c0d4f5;\n",
       "  color: #000000;\n",
       "}\n",
       "#T_6a218_row1_col2, #T_6a218_row2_col4 {\n",
       "  background-color: #d6dce4;\n",
       "  color: #000000;\n",
       "}\n",
       "#T_6a218_row1_col3 {\n",
       "  background-color: #e36b54;\n",
       "  color: #f1f1f1;\n",
       "}\n",
       "#T_6a218_row1_col4 {\n",
       "  background-color: #7699f6;\n",
       "  color: #f1f1f1;\n",
       "}\n",
       "#T_6a218_row1_col5 {\n",
       "  background-color: #c7d7f0;\n",
       "  color: #000000;\n",
       "}\n",
       "#T_6a218_row1_col6 {\n",
       "  background-color: #f7af91;\n",
       "  color: #000000;\n",
       "}\n",
       "#T_6a218_row1_col7 {\n",
       "  background-color: #b1cbfc;\n",
       "  color: #000000;\n",
       "}\n",
       "#T_6a218_row2_col0 {\n",
       "  background-color: #6788ee;\n",
       "  color: #f1f1f1;\n",
       "}\n",
       "#T_6a218_row2_col1, #T_6a218_row3_col2 {\n",
       "  background-color: #89acfd;\n",
       "  color: #000000;\n",
       "}\n",
       "#T_6a218_row2_col5 {\n",
       "  background-color: #5f7fe8;\n",
       "  color: #f1f1f1;\n",
       "}\n",
       "#T_6a218_row2_col6 {\n",
       "  background-color: #688aef;\n",
       "  color: #f1f1f1;\n",
       "}\n",
       "#T_6a218_row3_col1 {\n",
       "  background-color: #e57058;\n",
       "  color: #f1f1f1;\n",
       "}\n",
       "#T_6a218_row3_col4 {\n",
       "  background-color: #485fd1;\n",
       "  color: #f1f1f1;\n",
       "}\n",
       "#T_6a218_row3_col5, #T_6a218_row6_col5 {\n",
       "  background-color: #a3c2fe;\n",
       "  color: #000000;\n",
       "}\n",
       "#T_6a218_row3_col6 {\n",
       "  background-color: #ebd3c6;\n",
       "  color: #000000;\n",
       "}\n",
       "#T_6a218_row3_col7 {\n",
       "  background-color: #93b5fe;\n",
       "  color: #000000;\n",
       "}\n",
       "#T_6a218_row4_col0 {\n",
       "  background-color: #f7b497;\n",
       "  color: #000000;\n",
       "}\n",
       "#T_6a218_row4_col1 {\n",
       "  background-color: #4e68d8;\n",
       "  color: #f1f1f1;\n",
       "}\n",
       "#T_6a218_row4_col2 {\n",
       "  background-color: #efcfbf;\n",
       "  color: #000000;\n",
       "}\n",
       "#T_6a218_row4_col5 {\n",
       "  background-color: #abc8fd;\n",
       "  color: #000000;\n",
       "}\n",
       "#T_6a218_row4_col6 {\n",
       "  background-color: #465ecf;\n",
       "  color: #f1f1f1;\n",
       "}\n",
       "#T_6a218_row4_col7 {\n",
       "  background-color: #e4d9d2;\n",
       "  color: #000000;\n",
       "}\n",
       "#T_6a218_row5_col1, #T_6a218_row5_col4, #T_6a218_row5_col6 {\n",
       "  background-color: #5a78e4;\n",
       "  color: #f1f1f1;\n",
       "}\n",
       "#T_6a218_row5_col2 {\n",
       "  background-color: #4a63d3;\n",
       "  color: #f1f1f1;\n",
       "}\n",
       "#T_6a218_row5_col3 {\n",
       "  background-color: #4358cb;\n",
       "  color: #f1f1f1;\n",
       "}\n",
       "#T_6a218_row5_col7 {\n",
       "  background-color: #5875e1;\n",
       "  color: #f1f1f1;\n",
       "}\n",
       "#T_6a218_row6_col1 {\n",
       "  background-color: #f5c0a7;\n",
       "  color: #000000;\n",
       "}\n",
       "#T_6a218_row6_col2, #T_6a218_row7_col2 {\n",
       "  background-color: #9ebeff;\n",
       "  color: #000000;\n",
       "}\n",
       "#T_6a218_row6_col3 {\n",
       "  background-color: #e3d9d3;\n",
       "  color: #000000;\n",
       "}\n",
       "#T_6a218_row6_col4 {\n",
       "  background-color: #3d50c3;\n",
       "  color: #f1f1f1;\n",
       "}\n",
       "#T_6a218_row6_col7 {\n",
       "  background-color: #3f53c6;\n",
       "  color: #f1f1f1;\n",
       "}\n",
       "#T_6a218_row7_col0 {\n",
       "  background-color: #96b7ff;\n",
       "  color: #000000;\n",
       "}\n",
       "#T_6a218_row7_col1 {\n",
       "  background-color: #82a6fb;\n",
       "  color: #f1f1f1;\n",
       "}\n",
       "#T_6a218_row7_col3 {\n",
       "  background-color: #7a9df8;\n",
       "  color: #f1f1f1;\n",
       "}\n",
       "#T_6a218_row7_col4 {\n",
       "  background-color: #dedcdb;\n",
       "  color: #000000;\n",
       "}\n",
       "#T_6a218_row7_col5 {\n",
       "  background-color: #9dbdff;\n",
       "  color: #000000;\n",
       "}\n",
       "</style>\n",
       "<table id=\"T_6a218_\">\n",
       "  <thead>\n",
       "    <tr>\n",
       "      <th class=\"blank level0\" >&nbsp;</th>\n",
       "      <th class=\"col_heading level0 col0\" >SoilMoisture</th>\n",
       "      <th class=\"col_heading level0 col1\" >Average_Temp</th>\n",
       "      <th class=\"col_heading level0 col2\" >Min_Temp</th>\n",
       "      <th class=\"col_heading level0 col3\" >Max_Temp</th>\n",
       "      <th class=\"col_heading level0 col4\" >Precipitation</th>\n",
       "      <th class=\"col_heading level0 col5\" >Working_days</th>\n",
       "      <th class=\"col_heading level0 col6\" >HA_Harvested</th>\n",
       "      <th class=\"col_heading level0 col7\" >FFB_Yield</th>\n",
       "    </tr>\n",
       "  </thead>\n",
       "  <tbody>\n",
       "    <tr>\n",
       "      <th id=\"T_6a218_level0_row0\" class=\"row_heading level0 row0\" >SoilMoisture</th>\n",
       "      <td id=\"T_6a218_row0_col0\" class=\"data row0 col0\" >1.0</td>\n",
       "      <td id=\"T_6a218_row0_col1\" class=\"data row0 col1\" >-0.627</td>\n",
       "      <td id=\"T_6a218_row0_col2\" class=\"data row0 col2\" >0.0367</td>\n",
       "      <td id=\"T_6a218_row0_col3\" class=\"data row0 col3\" >-0.483</td>\n",
       "      <td id=\"T_6a218_row0_col4\" class=\"data row0 col4\" >0.545</td>\n",
       "      <td id=\"T_6a218_row0_col5\" class=\"data row0 col5\" >-0.048</td>\n",
       "      <td id=\"T_6a218_row0_col6\" class=\"data row0 col6\" >-0.373</td>\n",
       "      <td id=\"T_6a218_row0_col7\" class=\"data row0 col7\" >0.0243</td>\n",
       "    </tr>\n",
       "    <tr>\n",
       "      <th id=\"T_6a218_level0_row1\" class=\"row_heading level0 row1\" >Average_Temp</th>\n",
       "      <td id=\"T_6a218_row1_col0\" class=\"data row1 col0\" >-0.627</td>\n",
       "      <td id=\"T_6a218_row1_col1\" class=\"data row1 col1\" >1.0</td>\n",
       "      <td id=\"T_6a218_row1_col2\" class=\"data row1 col2\" >0.146</td>\n",
       "      <td id=\"T_6a218_row1_col3\" class=\"data row1 col3\" >0.764</td>\n",
       "      <td id=\"T_6a218_row1_col4\" class=\"data row1 col4\" >-0.324</td>\n",
       "      <td id=\"T_6a218_row1_col5\" class=\"data row1 col5\" >0.0596</td>\n",
       "      <td id=\"T_6a218_row1_col6\" class=\"data row1 col6\" >0.503</td>\n",
       "      <td id=\"T_6a218_row1_col7\" class=\"data row1 col7\" >-0.0519</td>\n",
       "    </tr>\n",
       "    <tr>\n",
       "      <th id=\"T_6a218_level0_row2\" class=\"row_heading level0 row2\" >Min_Temp</th>\n",
       "      <td id=\"T_6a218_row2_col0\" class=\"data row2 col0\" >0.0367</td>\n",
       "      <td id=\"T_6a218_row2_col1\" class=\"data row2 col1\" >0.146</td>\n",
       "      <td id=\"T_6a218_row2_col2\" class=\"data row2 col2\" >1.0</td>\n",
       "      <td id=\"T_6a218_row2_col3\" class=\"data row2 col3\" >-0.125</td>\n",
       "      <td id=\"T_6a218_row2_col4\" class=\"data row2 col4\" >0.408</td>\n",
       "      <td id=\"T_6a218_row2_col5\" class=\"data row2 col5\" >0.00893</td>\n",
       "      <td id=\"T_6a218_row2_col6\" class=\"data row2 col6\" >0.0389</td>\n",
       "      <td id=\"T_6a218_row2_col7\" class=\"data row2 col7\" >0.0541</td>\n",
       "    </tr>\n",
       "    <tr>\n",
       "      <th id=\"T_6a218_level0_row3\" class=\"row_heading level0 row3\" >Max_Temp</th>\n",
       "      <td id=\"T_6a218_row3_col0\" class=\"data row3 col0\" >-0.483</td>\n",
       "      <td id=\"T_6a218_row3_col1\" class=\"data row3 col1\" >0.764</td>\n",
       "      <td id=\"T_6a218_row3_col2\" class=\"data row3 col2\" >-0.125</td>\n",
       "      <td id=\"T_6a218_row3_col3\" class=\"data row3 col3\" >1.0</td>\n",
       "      <td id=\"T_6a218_row3_col4\" class=\"data row3 col4\" >-0.416</td>\n",
       "      <td id=\"T_6a218_row3_col5\" class=\"data row3 col5\" >-0.018</td>\n",
       "      <td id=\"T_6a218_row3_col6\" class=\"data row3 col6\" >0.347</td>\n",
       "      <td id=\"T_6a218_row3_col7\" class=\"data row3 col7\" >-0.0846</td>\n",
       "    </tr>\n",
       "    <tr>\n",
       "      <th id=\"T_6a218_level0_row4\" class=\"row_heading level0 row4\" >Precipitation</th>\n",
       "      <td id=\"T_6a218_row4_col0\" class=\"data row4 col0\" >0.545</td>\n",
       "      <td id=\"T_6a218_row4_col1\" class=\"data row4 col1\" >-0.324</td>\n",
       "      <td id=\"T_6a218_row4_col2\" class=\"data row4 col2\" >0.408</td>\n",
       "      <td id=\"T_6a218_row4_col3\" class=\"data row4 col3\" >-0.416</td>\n",
       "      <td id=\"T_6a218_row4_col4\" class=\"data row4 col4\" >1.0</td>\n",
       "      <td id=\"T_6a218_row4_col5\" class=\"data row4 col5\" >0.0604</td>\n",
       "      <td id=\"T_6a218_row4_col6\" class=\"data row4 col6\" >-0.357</td>\n",
       "      <td id=\"T_6a218_row4_col7\" class=\"data row4 col7\" >0.335</td>\n",
       "    </tr>\n",
       "    <tr>\n",
       "      <th id=\"T_6a218_level0_row5\" class=\"row_heading level0 row5\" >Working_days</th>\n",
       "      <td id=\"T_6a218_row5_col0\" class=\"data row5 col0\" >-0.048</td>\n",
       "      <td id=\"T_6a218_row5_col1\" class=\"data row5 col1\" >0.0596</td>\n",
       "      <td id=\"T_6a218_row5_col2\" class=\"data row5 col2\" >0.00893</td>\n",
       "      <td id=\"T_6a218_row5_col3\" class=\"data row5 col3\" >-0.018</td>\n",
       "      <td id=\"T_6a218_row5_col4\" class=\"data row5 col4\" >0.0604</td>\n",
       "      <td id=\"T_6a218_row5_col5\" class=\"data row5 col5\" >1.0</td>\n",
       "      <td id=\"T_6a218_row5_col6\" class=\"data row5 col6\" >0.0616</td>\n",
       "      <td id=\"T_6a218_row5_col7\" class=\"data row5 col7\" >0.0511</td>\n",
       "    </tr>\n",
       "    <tr>\n",
       "      <th id=\"T_6a218_level0_row6\" class=\"row_heading level0 row6\" >HA_Harvested</th>\n",
       "      <td id=\"T_6a218_row6_col0\" class=\"data row6 col0\" >-0.373</td>\n",
       "      <td id=\"T_6a218_row6_col1\" class=\"data row6 col1\" >0.503</td>\n",
       "      <td id=\"T_6a218_row6_col2\" class=\"data row6 col2\" >0.0389</td>\n",
       "      <td id=\"T_6a218_row6_col3\" class=\"data row6 col3\" >0.347</td>\n",
       "      <td id=\"T_6a218_row6_col4\" class=\"data row6 col4\" >-0.357</td>\n",
       "      <td id=\"T_6a218_row6_col5\" class=\"data row6 col5\" >0.0616</td>\n",
       "      <td id=\"T_6a218_row6_col6\" class=\"data row6 col6\" >1.0</td>\n",
       "      <td id=\"T_6a218_row6_col7\" class=\"data row6 col7\" >-0.348</td>\n",
       "    </tr>\n",
       "    <tr>\n",
       "      <th id=\"T_6a218_level0_row7\" class=\"row_heading level0 row7\" >FFB_Yield</th>\n",
       "      <td id=\"T_6a218_row7_col0\" class=\"data row7 col0\" >0.0243</td>\n",
       "      <td id=\"T_6a218_row7_col1\" class=\"data row7 col1\" >-0.0519</td>\n",
       "      <td id=\"T_6a218_row7_col2\" class=\"data row7 col2\" >0.0541</td>\n",
       "      <td id=\"T_6a218_row7_col3\" class=\"data row7 col3\" >-0.0846</td>\n",
       "      <td id=\"T_6a218_row7_col4\" class=\"data row7 col4\" >0.335</td>\n",
       "      <td id=\"T_6a218_row7_col5\" class=\"data row7 col5\" >0.0511</td>\n",
       "      <td id=\"T_6a218_row7_col6\" class=\"data row7 col6\" >-0.348</td>\n",
       "      <td id=\"T_6a218_row7_col7\" class=\"data row7 col7\" >1.0</td>\n",
       "    </tr>\n",
       "  </tbody>\n",
       "</table>\n"
      ],
      "text/plain": [
       "<pandas.io.formats.style.Styler at 0x15f05348>"
      ]
     },
     "execution_count": 46,
     "metadata": {},
     "output_type": "execute_result"
    }
   ],
   "source": [
    "import seaborn as sns    \n",
    "import pandas.util.testing as tm\n",
    "\n",
    "new_df.corr(method='pearson').style.format(\"{:.3}\").background_gradient(cmap=pl.get_cmap('coolwarm'), axis=1) "
   ]
  },
  {
   "cell_type": "markdown",
   "metadata": {},
   "source": [
    "<b> Precipitation shows a positive relation with FFB yeild </b>"
   ]
  },
  {
   "cell_type": "markdown",
   "metadata": {},
   "source": [
    "Observations From overall analysis:\n",
    "    1. The FFB yeild, shows non-linear relationship with all the attributes excluding precipitation from overall dataset\n",
    "    2. Highest number of the FFB was produced in month August to December\n",
    "    3. The production of FFB was highest in 2014 and 2017\n",
    "    4. Analyzing years of highest production, shows impact of HA_harvested and Average temperature\n",
    "    5. Working days and soil moisture does not impact FFB production\n",
    "    6. Attributes like rainfall would have been more effcient to determine FFB production\n",
    "    7. Outliers were Detected and removed using quartile method\n",
    "    8. No trend was observed in data except soil moisture"
   ]
  },
  {
   "cell_type": "code",
   "execution_count": null,
   "metadata": {},
   "outputs": [],
   "source": []
  }
 ],
 "metadata": {
  "kernelspec": {
   "display_name": "Python 3",
   "language": "python",
   "name": "python3"
  },
  "language_info": {
   "codemirror_mode": {
    "name": "ipython",
    "version": 3
   },
   "file_extension": ".py",
   "mimetype": "text/x-python",
   "name": "python",
   "nbconvert_exporter": "python",
   "pygments_lexer": "ipython3",
   "version": "3.7.4"
  }
 },
 "nbformat": 4,
 "nbformat_minor": 2
}
