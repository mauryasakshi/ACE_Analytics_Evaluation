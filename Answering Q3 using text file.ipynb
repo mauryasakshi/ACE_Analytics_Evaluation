{
 "cells": [
  {
   "cell_type": "markdown",
   "metadata": {},
   "source": [
    "Answering Q3:\n",
    "Feed the following paragraph into your favourite data analytics tool, and answer the following : <br>\n",
    "a. What is the probability of the word “data” occurring in each line ? <br>\n",
    "b. What is the distribution of distinct word counts across all the lines ? <br>\n",
    "c. What is the probability of the word “analytics” occurring after the word “data” ? <br>\n",
    "\n",
    "## Load the text file"
   ]
  },
  {
   "cell_type": "code",
   "execution_count": 1,
   "metadata": {},
   "outputs": [],
   "source": [
    "file1 = open(\"ques3.txt\",mode='r') ## mode r is for reading the text file"
   ]
  },
  {
   "cell_type": "code",
   "execution_count": 2,
   "metadata": {},
   "outputs": [
    {
     "data": {
      "text/plain": [
       "\"As a term, data analytics predominantly refers to an assortment of applications, from basic business intelligence (BI), reporting and online analytical processing (OLAP) to various forms of advanced analytics. In that sense, it's similar in nature to business analytics, another umbrella term for approaches to analyzing data -- with the difference that the latter is oriented to business uses, while data analytics has a broader focus. The expansive view of the term isn't universal, though: In some cases, people use data analytics specifically to mean advanced analytics, treating BI as a separate category. Data analytics initiatives can help businesses increase revenues, improve operational efficiency, optimize marketing campaigns and customer service efforts, respond more quickly to emerging market trends and gain a competitive edge over rivals -- all with the ultimate goal of boosting business performance. Depending on the particular application, the data that's analyzed can consist of either historical records or new information that has been processed for real-time analytics uses. In addition, it can come from a mix of internal systems and external data sources. At a high level, data analytics methodologies include exploratory data analysis (EDA), which aims to find patterns and relationships in data, and confirmatory data analysis (CDA), which applies statistical techniques to determine whether hypotheses about a data set are true or false. EDA is often compared to detective work, while CDA is akin to the work of a judge or jury during a court trial -- a distinction first drawn by statistician John W. Tukey in his 1977 book Exploratory Data Analysis. Data analytics can also be separated into quantitative data analysis and qualitative data analysis. The former involves analysis of numerical data with quantifiable variables that can be compared or measured statistically. The qualitative approach is more interpretive -- it focuses on understanding the content of non-numerical data like text, images, audio and video, including common phrases, themes and points of view.\""
      ]
     },
     "execution_count": 2,
     "metadata": {},
     "output_type": "execute_result"
    }
   ],
   "source": [
    "read_data = file1.read()## reading the file\n",
    "read_data"
   ]
  },
  {
   "cell_type": "markdown",
   "metadata": {},
   "source": [
    " ## Now text file is loaded, so we will try to answer the questions :"
   ]
  },
  {
   "cell_type": "markdown",
   "metadata": {},
   "source": [
    "## <b> Question 1:</b> What is the probability of the word “data” occurring in each line ? "
   ]
  },
  {
   "cell_type": "code",
   "execution_count": 3,
   "metadata": {},
   "outputs": [
    {
     "name": "stdout",
     "output_type": "stream",
     "text": [
      "Count of 'data' in whole document is : 18\n"
     ]
    }
   ],
   "source": [
    "data_count = read_data.lower().count('data') # counting occurance of word 'data' in whole document\n",
    "print(\"Count of 'data' in whole document is :\",data_count)"
   ]
  },
  {
   "cell_type": "code",
   "execution_count": 4,
   "metadata": {},
   "outputs": [
    {
     "data": {
      "text/plain": [
       "['As a term, data analytics predominantly refers to an assortment of applications, from basic business intelligence (BI), reporting and online analytical processing (OLAP) to various forms of advanced analytics',\n",
       " \" In that sense, it's similar in nature to business analytics, another umbrella term for approaches to analyzing data -- with the difference that the latter is oriented to business uses, while data analytics has a broader focus\",\n",
       " \" The expansive view of the term isn't universal, though: In some cases, people use data analytics specifically to mean advanced analytics, treating BI as a separate category\",\n",
       " ' Data analytics initiatives can help businesses increase revenues, improve operational efficiency, optimize marketing campaigns and customer service efforts, respond more quickly to emerging market trends and gain a competitive edge over rivals -- all with the ultimate goal of boosting business performance',\n",
       " \" Depending on the particular application, the data that's analyzed can consist of either historical records or new information that has been processed for real-time analytics uses\",\n",
       " ' In addition, it can come from a mix of internal systems and external data sources',\n",
       " ' At a high level, data analytics methodologies include exploratory data analysis (EDA), which aims to find patterns and relationships in data, and confirmatory data analysis (CDA), which applies statistical techniques to determine whether hypotheses about a data set are true or false',\n",
       " ' EDA is often compared to detective work, while CDA is akin to the work of a judge or jury during a court trial -- a distinction first drawn by statistician John W',\n",
       " ' Tukey in his 1977 book Exploratory Data Analysis',\n",
       " ' Data analytics can also be separated into quantitative data analysis and qualitative data analysis',\n",
       " ' The former involves analysis of numerical data with quantifiable variables that can be compared or measured statistically',\n",
       " ' The qualitative approach is more interpretive -- it focuses on understanding the content of non-numerical data like text, images, audio and video, including common phrases, themes and points of view',\n",
       " '']"
      ]
     },
     "execution_count": 4,
     "metadata": {},
     "output_type": "execute_result"
    }
   ],
   "source": [
    "# In order to find occurance of word 'data' in each line, we will split each sentence.\n",
    "# Note : Here each line is interpreted as each sentence\n",
    "\n",
    "split_text = read_data.split(\".\") ## each sentence is seperated by full stop \".\"\n",
    "split_text"
   ]
  },
  {
   "cell_type": "code",
   "execution_count": 5,
   "metadata": {},
   "outputs": [
    {
     "data": {
      "text/plain": [
       "list"
      ]
     },
     "execution_count": 5,
     "metadata": {},
     "output_type": "execute_result"
    }
   ],
   "source": [
    "type(split_text) ## checking the datatype of variable"
   ]
  },
  {
   "cell_type": "code",
   "execution_count": 6,
   "metadata": {},
   "outputs": [
    {
     "data": {
      "text/plain": [
       "'As a term, data analytics predominantly refers to an assortment of applications, from basic business intelligence (BI), reporting and online analytical processing (OLAP) to various forms of advanced analytics'"
      ]
     },
     "execution_count": 6,
     "metadata": {},
     "output_type": "execute_result"
    }
   ],
   "source": [
    "split_text[0]"
   ]
  },
  {
   "cell_type": "code",
   "execution_count": 7,
   "metadata": {},
   "outputs": [
    {
     "data": {
      "text/plain": [
       "\" In that sense, it's similar in nature to business analytics, another umbrella term for approaches to analyzing data -- with the difference that the latter is oriented to business uses, while data analytics has a broader focus\""
      ]
     },
     "execution_count": 7,
     "metadata": {},
     "output_type": "execute_result"
    }
   ],
   "source": [
    "split_text[1]"
   ]
  },
  {
   "cell_type": "code",
   "execution_count": 8,
   "metadata": {},
   "outputs": [
    {
     "data": {
      "text/plain": [
       "13"
      ]
     },
     "execution_count": 8,
     "metadata": {},
     "output_type": "execute_result"
    }
   ],
   "source": [
    "len(split_text)"
   ]
  },
  {
   "cell_type": "code",
   "execution_count": 9,
   "metadata": {},
   "outputs": [
    {
     "name": "stdout",
     "output_type": "stream",
     "text": [
      "Sentence No : 1 count of word 'data' is  : 1\n",
      "Sentence No : 2 count of word 'data' is  : 2\n",
      "Sentence No : 3 count of word 'data' is  : 1\n",
      "Sentence No : 4 count of word 'data' is  : 1\n",
      "Sentence No : 5 count of word 'data' is  : 1\n",
      "Sentence No : 6 count of word 'data' is  : 1\n",
      "Sentence No : 7 count of word 'data' is  : 5\n",
      "Sentence No : 8 count of word 'data' is  : 0\n",
      "Sentence No : 9 count of word 'data' is  : 1\n",
      "Sentence No : 10 count of word 'data' is  : 3\n",
      "Sentence No : 11 count of word 'data' is  : 1\n",
      "Sentence No : 12 count of word 'data' is  : 1\n",
      "Sentence No : 13 count of word 'data' is  : 0\n"
     ]
    }
   ],
   "source": [
    "## creating a function to count occurance of word 'data' in each sentence\n",
    "\n",
    "for i in range(len(split_text)):\n",
    "    counts = split_text[i].lower().count('data')\n",
    "    print(\"Sentence No :\", i+1 ,\"count of word 'data' is  :\",counts)"
   ]
  },
  {
   "cell_type": "code",
   "execution_count": 10,
   "metadata": {},
   "outputs": [
    {
     "name": "stdout",
     "output_type": "stream",
     "text": [
      "Sentence No : 1 count of word 'data' is  : 1 and probability : 0.06\n",
      "Sentence No : 2 count of word 'data' is  : 2 and probability : 0.11\n",
      "Sentence No : 3 count of word 'data' is  : 1 and probability : 0.06\n",
      "Sentence No : 4 count of word 'data' is  : 1 and probability : 0.06\n",
      "Sentence No : 5 count of word 'data' is  : 1 and probability : 0.06\n",
      "Sentence No : 6 count of word 'data' is  : 1 and probability : 0.06\n",
      "Sentence No : 7 count of word 'data' is  : 5 and probability : 0.28\n",
      "Sentence No : 8 count of word 'data' is  : 0 and probability : 0.0\n",
      "Sentence No : 9 count of word 'data' is  : 1 and probability : 0.06\n",
      "Sentence No : 10 count of word 'data' is  : 3 and probability : 0.17\n",
      "Sentence No : 11 count of word 'data' is  : 1 and probability : 0.06\n",
      "Sentence No : 12 count of word 'data' is  : 1 and probability : 0.06\n",
      "Sentence No : 13 count of word 'data' is  : 0 and probability : 0.0\n"
     ]
    }
   ],
   "source": [
    "## Finding probability of \"data\" occuring in each line\n",
    "\n",
    "for i in range(len(split_text)):\n",
    "    counts = split_text[i].lower().count('data')\n",
    "    probability = counts/data_count\n",
    "    print(\"Sentence No :\", i+1 ,\"count of word 'data' is  :\",counts, \"and probability :\",round(probability,2))"
   ]
  },
  {
   "cell_type": "markdown",
   "metadata": {},
   "source": [
    "## <b> Question No. 2</b> What is the distribution of distinct word counts across all the lines ? "
   ]
  },
  {
   "cell_type": "code",
   "execution_count": 11,
   "metadata": {},
   "outputs": [
    {
     "data": {
      "text/plain": [
       "'As a term  data analytics predominantly refers to an assortment of applications  from basic business intelligence  BI   reporting and online analytical processing  OLAP  to various forms of advanced analytics  In that sense  it s similar in nature to business analytics  another umbrella term for approaches to analyzing data    with the difference that the latter is oriented to business uses  while data analytics has a broader focus  The expansive view of the term isn t universal  though  In some cases  people use data analytics specifically to mean advanced analytics  treating BI as a separate category  Data analytics initiatives can help businesses increase revenues  improve operational efficiency  optimize marketing campaigns and customer service efforts  respond more quickly to emerging market trends and gain a competitive edge over rivals    all with the ultimate goal of boosting business performance  Depending on the particular application  the data that s analyzed can consist of either historical records or new information that has been processed for real time analytics uses  In addition  it can come from a mix of internal systems and external data sources  At a high level  data analytics methodologies include exploratory data analysis  EDA   which aims to find patterns and relationships in data  and confirmatory data analysis  CDA   which applies statistical techniques to determine whether hypotheses about a data set are true or false  EDA is often compared to detective work  while CDA is akin to the work of a judge or jury during a court trial    a distinction first drawn by statistician John W  Tukey in his 1977 book Exploratory Data Analysis  Data analytics can also be separated into quantitative data analysis and qualitative data analysis  The former involves analysis of numerical data with quantifiable variables that can be compared or measured statistically  The qualitative approach is more interpretive    it focuses on understanding the content of non numerical data like text  images  audio and video  including common phrases  themes and points of view '"
      ]
     },
     "execution_count": 11,
     "metadata": {},
     "output_type": "execute_result"
    }
   ],
   "source": [
    "import re\n",
    "clean_data = re.sub(r'[^\\w]', ' ', read_data) ## cleaning the data for better calculation\n",
    "clean_data"
   ]
  },
  {
   "cell_type": "code",
   "execution_count": 12,
   "metadata": {},
   "outputs": [],
   "source": [
    "# Distribution of distinct word counts across all the lines \n",
    "from collections import Counter\n",
    "\n",
    "df_text = Counter(clean_data.lower().split())"
   ]
  },
  {
   "cell_type": "code",
   "execution_count": 13,
   "metadata": {},
   "outputs": [
    {
     "data": {
      "text/plain": [
       "Counter({'as': 2,\n",
       "         'a': 10,\n",
       "         'term': 3,\n",
       "         'data': 18,\n",
       "         'analytics': 10,\n",
       "         'predominantly': 1,\n",
       "         'refers': 1,\n",
       "         'to': 11,\n",
       "         'an': 1,\n",
       "         'assortment': 1,\n",
       "         'of': 10,\n",
       "         'applications': 1,\n",
       "         'from': 2,\n",
       "         'basic': 1,\n",
       "         'business': 4,\n",
       "         'intelligence': 1,\n",
       "         'bi': 2,\n",
       "         'reporting': 1,\n",
       "         'and': 9,\n",
       "         'online': 1,\n",
       "         'analytical': 1,\n",
       "         'processing': 1,\n",
       "         'olap': 1,\n",
       "         'various': 1,\n",
       "         'forms': 1,\n",
       "         'advanced': 2,\n",
       "         'in': 6,\n",
       "         'that': 5,\n",
       "         'sense': 1,\n",
       "         'it': 3,\n",
       "         's': 2,\n",
       "         'similar': 1,\n",
       "         'nature': 1,\n",
       "         'another': 1,\n",
       "         'umbrella': 1,\n",
       "         'for': 2,\n",
       "         'approaches': 1,\n",
       "         'analyzing': 1,\n",
       "         'with': 3,\n",
       "         'the': 11,\n",
       "         'difference': 1,\n",
       "         'latter': 1,\n",
       "         'is': 4,\n",
       "         'oriented': 1,\n",
       "         'uses': 2,\n",
       "         'while': 2,\n",
       "         'has': 2,\n",
       "         'broader': 1,\n",
       "         'focus': 1,\n",
       "         'expansive': 1,\n",
       "         'view': 2,\n",
       "         'isn': 1,\n",
       "         't': 1,\n",
       "         'universal': 1,\n",
       "         'though': 1,\n",
       "         'some': 1,\n",
       "         'cases': 1,\n",
       "         'people': 1,\n",
       "         'use': 1,\n",
       "         'specifically': 1,\n",
       "         'mean': 1,\n",
       "         'treating': 1,\n",
       "         'separate': 1,\n",
       "         'category': 1,\n",
       "         'initiatives': 1,\n",
       "         'can': 5,\n",
       "         'help': 1,\n",
       "         'businesses': 1,\n",
       "         'increase': 1,\n",
       "         'revenues': 1,\n",
       "         'improve': 1,\n",
       "         'operational': 1,\n",
       "         'efficiency': 1,\n",
       "         'optimize': 1,\n",
       "         'marketing': 1,\n",
       "         'campaigns': 1,\n",
       "         'customer': 1,\n",
       "         'service': 1,\n",
       "         'efforts': 1,\n",
       "         'respond': 1,\n",
       "         'more': 2,\n",
       "         'quickly': 1,\n",
       "         'emerging': 1,\n",
       "         'market': 1,\n",
       "         'trends': 1,\n",
       "         'gain': 1,\n",
       "         'competitive': 1,\n",
       "         'edge': 1,\n",
       "         'over': 1,\n",
       "         'rivals': 1,\n",
       "         'all': 1,\n",
       "         'ultimate': 1,\n",
       "         'goal': 1,\n",
       "         'boosting': 1,\n",
       "         'performance': 1,\n",
       "         'depending': 1,\n",
       "         'on': 2,\n",
       "         'particular': 1,\n",
       "         'application': 1,\n",
       "         'analyzed': 1,\n",
       "         'consist': 1,\n",
       "         'either': 1,\n",
       "         'historical': 1,\n",
       "         'records': 1,\n",
       "         'or': 4,\n",
       "         'new': 1,\n",
       "         'information': 1,\n",
       "         'been': 1,\n",
       "         'processed': 1,\n",
       "         'real': 1,\n",
       "         'time': 1,\n",
       "         'addition': 1,\n",
       "         'come': 1,\n",
       "         'mix': 1,\n",
       "         'internal': 1,\n",
       "         'systems': 1,\n",
       "         'external': 1,\n",
       "         'sources': 1,\n",
       "         'at': 1,\n",
       "         'high': 1,\n",
       "         'level': 1,\n",
       "         'methodologies': 1,\n",
       "         'include': 1,\n",
       "         'exploratory': 2,\n",
       "         'analysis': 6,\n",
       "         'eda': 2,\n",
       "         'which': 2,\n",
       "         'aims': 1,\n",
       "         'find': 1,\n",
       "         'patterns': 1,\n",
       "         'relationships': 1,\n",
       "         'confirmatory': 1,\n",
       "         'cda': 2,\n",
       "         'applies': 1,\n",
       "         'statistical': 1,\n",
       "         'techniques': 1,\n",
       "         'determine': 1,\n",
       "         'whether': 1,\n",
       "         'hypotheses': 1,\n",
       "         'about': 1,\n",
       "         'set': 1,\n",
       "         'are': 1,\n",
       "         'true': 1,\n",
       "         'false': 1,\n",
       "         'often': 1,\n",
       "         'compared': 2,\n",
       "         'detective': 1,\n",
       "         'work': 2,\n",
       "         'akin': 1,\n",
       "         'judge': 1,\n",
       "         'jury': 1,\n",
       "         'during': 1,\n",
       "         'court': 1,\n",
       "         'trial': 1,\n",
       "         'distinction': 1,\n",
       "         'first': 1,\n",
       "         'drawn': 1,\n",
       "         'by': 1,\n",
       "         'statistician': 1,\n",
       "         'john': 1,\n",
       "         'w': 1,\n",
       "         'tukey': 1,\n",
       "         'his': 1,\n",
       "         '1977': 1,\n",
       "         'book': 1,\n",
       "         'also': 1,\n",
       "         'be': 2,\n",
       "         'separated': 1,\n",
       "         'into': 1,\n",
       "         'quantitative': 1,\n",
       "         'qualitative': 2,\n",
       "         'former': 1,\n",
       "         'involves': 1,\n",
       "         'numerical': 2,\n",
       "         'quantifiable': 1,\n",
       "         'variables': 1,\n",
       "         'measured': 1,\n",
       "         'statistically': 1,\n",
       "         'approach': 1,\n",
       "         'interpretive': 1,\n",
       "         'focuses': 1,\n",
       "         'understanding': 1,\n",
       "         'content': 1,\n",
       "         'non': 1,\n",
       "         'like': 1,\n",
       "         'text': 1,\n",
       "         'images': 1,\n",
       "         'audio': 1,\n",
       "         'video': 1,\n",
       "         'including': 1,\n",
       "         'common': 1,\n",
       "         'phrases': 1,\n",
       "         'themes': 1,\n",
       "         'points': 1})"
      ]
     },
     "execution_count": 13,
     "metadata": {},
     "output_type": "execute_result"
    }
   ],
   "source": [
    "df_text   "
   ]
  },
  {
   "cell_type": "markdown",
   "metadata": {},
   "source": [
    "## <b> Question No. 3 </b> What is the probability of the word “analytics” occurring after the word “data” ? "
   ]
  },
  {
   "cell_type": "code",
   "execution_count": 14,
   "metadata": {},
   "outputs": [],
   "source": [
    "# Since the question meant 'analytics' occuring after 'data', so we can say it as 'data analytics'\n",
    "data_analytics_count = clean_data.lower().count('data analytics')"
   ]
  },
  {
   "cell_type": "code",
   "execution_count": 15,
   "metadata": {},
   "outputs": [
    {
     "data": {
      "text/plain": [
       "6"
      ]
     },
     "execution_count": 15,
     "metadata": {},
     "output_type": "execute_result"
    }
   ],
   "source": [
    "data_analytics_count"
   ]
  },
  {
   "cell_type": "code",
   "execution_count": 16,
   "metadata": {},
   "outputs": [
    {
     "data": {
      "text/plain": [
       "10"
      ]
     },
     "execution_count": 16,
     "metadata": {},
     "output_type": "execute_result"
    }
   ],
   "source": [
    "analytics_count = clean_data.lower().count('analytics')\n",
    "analytics_count"
   ]
  },
  {
   "cell_type": "code",
   "execution_count": 17,
   "metadata": {},
   "outputs": [
    {
     "name": "stdout",
     "output_type": "stream",
     "text": [
      "probability of the word “analytics” occurring after the word “data” is : 0.33\n"
     ]
    }
   ],
   "source": [
    "## Finding probability of the word “analytics” occurring after the word “data” \n",
    "\n",
    "probabilty_data_analytics = data_analytics_count/data_count\n",
    "\n",
    "print(\"probability of the word “analytics” occurring after the word “data” is :\",round(probabilty_data_analytics,2))"
   ]
  },
  {
   "cell_type": "code",
   "execution_count": null,
   "metadata": {},
   "outputs": [],
   "source": []
  },
  {
   "cell_type": "code",
   "execution_count": null,
   "metadata": {},
   "outputs": [],
   "source": []
  }
 ],
 "metadata": {
  "kernelspec": {
   "display_name": "Python 3",
   "language": "python",
   "name": "python3"
  },
  "language_info": {
   "codemirror_mode": {
    "name": "ipython",
    "version": 3
   },
   "file_extension": ".py",
   "mimetype": "text/x-python",
   "name": "python",
   "nbconvert_exporter": "python",
   "pygments_lexer": "ipython3",
   "version": "3.7.4"
  }
 },
 "nbformat": 4,
 "nbformat_minor": 2
}
